{
  "nbformat": 4,
  "nbformat_minor": 0,
  "metadata": {
    "colab": {
      "provenance": [],
      "collapsed_sections": []
    },
    "kernelspec": {
      "name": "python3",
      "display_name": "Python 3"
    },
    "language_info": {
      "name": "python"
    }
  },
  "cells": [
    {
      "cell_type": "markdown",
      "source": [
        "# Neural Network Assignment By Rasha"
      ],
      "metadata": {
        "id": "rtCXIvWopWGp"
      }
    },
    {
      "cell_type": "markdown",
      "source": [
        "### Import the needed packages"
      ],
      "metadata": {
        "id": "O1B-PB843YWr"
      }
    },
    {
      "cell_type": "code",
      "execution_count": 175,
      "metadata": {
        "id": "ZmAsL6b42hCj"
      },
      "outputs": [],
      "source": [
        "import numpy as np\n",
        "import pandas as pd\n",
        "import seaborn as sns\n",
        "import matplotlib.pyplot as plt\n",
        "import plotly.express as px\n",
        "import tensorflow as tf\n",
        "\n",
        "from sklearn.preprocessing import LabelEncoder\n",
        "from sklearn.compose import ColumnTransformer\n",
        "from sklearn.preprocessing import OneHotEncoder\n",
        "from sklearn.model_selection import train_test_split\n",
        "from sklearn.preprocessing import StandardScaler\n",
        "from sklearn.metrics import plot_confusion_matrix\n",
        "from sklearn.metrics import confusion_matrix\n",
        "from sklearn.metrics import ConfusionMatrixDisplay\n",
        "from sklearn.metrics import classification_report"
      ]
    },
    {
      "cell_type": "markdown",
      "source": [
        "### **Attribute Information**\n",
        "- Age: age of the patient [years]\n",
        "- Sex: sex of the patient [M: Male, F: Female]\n",
        "- ChestPainType: chest pain type [TA: Typical Angina, ATA: Atypical Angina, NAP: Non-Anginal Pain, ASY: Asymptomatic]\n",
        "- RestingBP: resting blood pressure [mm Hg]\n",
        "- Cholesterol: serum cholesterol [mm/dl]\n",
        "- FastingBS: fasting blood sugar [1: if FastingBS > 120 mg/dl, 0: otherwise]\n",
        "- RestingECG: resting electrocardiogram results [Normal: Normal, ST: having ST-T wave abnormality (T wave inversions and/or ST elevation or depression of > 0.05 mV), LVH: showing probable or definite left ventricular hypertrophy by Estes' criteria]\n",
        "- MaxHR: maximum heart rate achieved [Numeric value between 60 and 202]\n",
        "- ExerciseAngina: exercise-induced angina [Y: Yes, N: No]\n",
        "- Oldpeak: oldpeak = ST [Numeric value measured in depression]\n",
        "- ST_Slope: the slope of the peak exercise ST segment [Up: upsloping, Flat: flat, Down: downsloping]\n",
        "- HeartDisease: output class [1: heart disease, 0: Normal]"
      ],
      "metadata": {
        "id": "jVYgiLLG9pt7"
      }
    },
    {
      "cell_type": "markdown",
      "source": [
        "### Get the dataset"
      ],
      "metadata": {
        "id": "8LadwQEn2yzr"
      }
    },
    {
      "cell_type": "code",
      "source": [
        "dataset = pd.read_csv('heart.csv')\n",
        "\n",
        "dataset.head()"
      ],
      "metadata": {
        "colab": {
          "base_uri": "https://localhost:8080/",
          "height": 206
        },
        "id": "0lij2mkl2wq1",
        "outputId": "182e622c-82a1-41a6-e045-acb97cbf2c90"
      },
      "execution_count": 2,
      "outputs": [
        {
          "output_type": "execute_result",
          "data": {
            "text/plain": [
              "   Age Sex ChestPainType  RestingBP  Cholesterol  FastingBS RestingECG  MaxHR  \\\n",
              "0   40   M           ATA        140          289          0     Normal    172   \n",
              "1   49   F           NAP        160          180          0     Normal    156   \n",
              "2   37   M           ATA        130          283          0         ST     98   \n",
              "3   48   F           ASY        138          214          0     Normal    108   \n",
              "4   54   M           NAP        150          195          0     Normal    122   \n",
              "\n",
              "  ExerciseAngina  Oldpeak ST_Slope  HeartDisease  \n",
              "0              N      0.0       Up             0  \n",
              "1              N      1.0     Flat             1  \n",
              "2              N      0.0       Up             0  \n",
              "3              Y      1.5     Flat             1  \n",
              "4              N      0.0       Up             0  "
            ],
            "text/html": [
              "\n",
              "  <div id=\"df-666357ce-c613-4c5a-839c-dfadd0f64159\">\n",
              "    <div class=\"colab-df-container\">\n",
              "      <div>\n",
              "<style scoped>\n",
              "    .dataframe tbody tr th:only-of-type {\n",
              "        vertical-align: middle;\n",
              "    }\n",
              "\n",
              "    .dataframe tbody tr th {\n",
              "        vertical-align: top;\n",
              "    }\n",
              "\n",
              "    .dataframe thead th {\n",
              "        text-align: right;\n",
              "    }\n",
              "</style>\n",
              "<table border=\"1\" class=\"dataframe\">\n",
              "  <thead>\n",
              "    <tr style=\"text-align: right;\">\n",
              "      <th></th>\n",
              "      <th>Age</th>\n",
              "      <th>Sex</th>\n",
              "      <th>ChestPainType</th>\n",
              "      <th>RestingBP</th>\n",
              "      <th>Cholesterol</th>\n",
              "      <th>FastingBS</th>\n",
              "      <th>RestingECG</th>\n",
              "      <th>MaxHR</th>\n",
              "      <th>ExerciseAngina</th>\n",
              "      <th>Oldpeak</th>\n",
              "      <th>ST_Slope</th>\n",
              "      <th>HeartDisease</th>\n",
              "    </tr>\n",
              "  </thead>\n",
              "  <tbody>\n",
              "    <tr>\n",
              "      <th>0</th>\n",
              "      <td>40</td>\n",
              "      <td>M</td>\n",
              "      <td>ATA</td>\n",
              "      <td>140</td>\n",
              "      <td>289</td>\n",
              "      <td>0</td>\n",
              "      <td>Normal</td>\n",
              "      <td>172</td>\n",
              "      <td>N</td>\n",
              "      <td>0.0</td>\n",
              "      <td>Up</td>\n",
              "      <td>0</td>\n",
              "    </tr>\n",
              "    <tr>\n",
              "      <th>1</th>\n",
              "      <td>49</td>\n",
              "      <td>F</td>\n",
              "      <td>NAP</td>\n",
              "      <td>160</td>\n",
              "      <td>180</td>\n",
              "      <td>0</td>\n",
              "      <td>Normal</td>\n",
              "      <td>156</td>\n",
              "      <td>N</td>\n",
              "      <td>1.0</td>\n",
              "      <td>Flat</td>\n",
              "      <td>1</td>\n",
              "    </tr>\n",
              "    <tr>\n",
              "      <th>2</th>\n",
              "      <td>37</td>\n",
              "      <td>M</td>\n",
              "      <td>ATA</td>\n",
              "      <td>130</td>\n",
              "      <td>283</td>\n",
              "      <td>0</td>\n",
              "      <td>ST</td>\n",
              "      <td>98</td>\n",
              "      <td>N</td>\n",
              "      <td>0.0</td>\n",
              "      <td>Up</td>\n",
              "      <td>0</td>\n",
              "    </tr>\n",
              "    <tr>\n",
              "      <th>3</th>\n",
              "      <td>48</td>\n",
              "      <td>F</td>\n",
              "      <td>ASY</td>\n",
              "      <td>138</td>\n",
              "      <td>214</td>\n",
              "      <td>0</td>\n",
              "      <td>Normal</td>\n",
              "      <td>108</td>\n",
              "      <td>Y</td>\n",
              "      <td>1.5</td>\n",
              "      <td>Flat</td>\n",
              "      <td>1</td>\n",
              "    </tr>\n",
              "    <tr>\n",
              "      <th>4</th>\n",
              "      <td>54</td>\n",
              "      <td>M</td>\n",
              "      <td>NAP</td>\n",
              "      <td>150</td>\n",
              "      <td>195</td>\n",
              "      <td>0</td>\n",
              "      <td>Normal</td>\n",
              "      <td>122</td>\n",
              "      <td>N</td>\n",
              "      <td>0.0</td>\n",
              "      <td>Up</td>\n",
              "      <td>0</td>\n",
              "    </tr>\n",
              "  </tbody>\n",
              "</table>\n",
              "</div>\n",
              "      <button class=\"colab-df-convert\" onclick=\"convertToInteractive('df-666357ce-c613-4c5a-839c-dfadd0f64159')\"\n",
              "              title=\"Convert this dataframe to an interactive table.\"\n",
              "              style=\"display:none;\">\n",
              "        \n",
              "  <svg xmlns=\"http://www.w3.org/2000/svg\" height=\"24px\"viewBox=\"0 0 24 24\"\n",
              "       width=\"24px\">\n",
              "    <path d=\"M0 0h24v24H0V0z\" fill=\"none\"/>\n",
              "    <path d=\"M18.56 5.44l.94 2.06.94-2.06 2.06-.94-2.06-.94-.94-2.06-.94 2.06-2.06.94zm-11 1L8.5 8.5l.94-2.06 2.06-.94-2.06-.94L8.5 2.5l-.94 2.06-2.06.94zm10 10l.94 2.06.94-2.06 2.06-.94-2.06-.94-.94-2.06-.94 2.06-2.06.94z\"/><path d=\"M17.41 7.96l-1.37-1.37c-.4-.4-.92-.59-1.43-.59-.52 0-1.04.2-1.43.59L10.3 9.45l-7.72 7.72c-.78.78-.78 2.05 0 2.83L4 21.41c.39.39.9.59 1.41.59.51 0 1.02-.2 1.41-.59l7.78-7.78 2.81-2.81c.8-.78.8-2.07 0-2.86zM5.41 20L4 18.59l7.72-7.72 1.47 1.35L5.41 20z\"/>\n",
              "  </svg>\n",
              "      </button>\n",
              "      \n",
              "  <style>\n",
              "    .colab-df-container {\n",
              "      display:flex;\n",
              "      flex-wrap:wrap;\n",
              "      gap: 12px;\n",
              "    }\n",
              "\n",
              "    .colab-df-convert {\n",
              "      background-color: #E8F0FE;\n",
              "      border: none;\n",
              "      border-radius: 50%;\n",
              "      cursor: pointer;\n",
              "      display: none;\n",
              "      fill: #1967D2;\n",
              "      height: 32px;\n",
              "      padding: 0 0 0 0;\n",
              "      width: 32px;\n",
              "    }\n",
              "\n",
              "    .colab-df-convert:hover {\n",
              "      background-color: #E2EBFA;\n",
              "      box-shadow: 0px 1px 2px rgba(60, 64, 67, 0.3), 0px 1px 3px 1px rgba(60, 64, 67, 0.15);\n",
              "      fill: #174EA6;\n",
              "    }\n",
              "\n",
              "    [theme=dark] .colab-df-convert {\n",
              "      background-color: #3B4455;\n",
              "      fill: #D2E3FC;\n",
              "    }\n",
              "\n",
              "    [theme=dark] .colab-df-convert:hover {\n",
              "      background-color: #434B5C;\n",
              "      box-shadow: 0px 1px 3px 1px rgba(0, 0, 0, 0.15);\n",
              "      filter: drop-shadow(0px 1px 2px rgba(0, 0, 0, 0.3));\n",
              "      fill: #FFFFFF;\n",
              "    }\n",
              "  </style>\n",
              "\n",
              "      <script>\n",
              "        const buttonEl =\n",
              "          document.querySelector('#df-666357ce-c613-4c5a-839c-dfadd0f64159 button.colab-df-convert');\n",
              "        buttonEl.style.display =\n",
              "          google.colab.kernel.accessAllowed ? 'block' : 'none';\n",
              "\n",
              "        async function convertToInteractive(key) {\n",
              "          const element = document.querySelector('#df-666357ce-c613-4c5a-839c-dfadd0f64159');\n",
              "          const dataTable =\n",
              "            await google.colab.kernel.invokeFunction('convertToInteractive',\n",
              "                                                     [key], {});\n",
              "          if (!dataTable) return;\n",
              "\n",
              "          const docLinkHtml = 'Like what you see? Visit the ' +\n",
              "            '<a target=\"_blank\" href=https://colab.research.google.com/notebooks/data_table.ipynb>data table notebook</a>'\n",
              "            + ' to learn more about interactive tables.';\n",
              "          element.innerHTML = '';\n",
              "          dataTable['output_type'] = 'display_data';\n",
              "          await google.colab.output.renderOutput(dataTable, element);\n",
              "          const docLink = document.createElement('div');\n",
              "          docLink.innerHTML = docLinkHtml;\n",
              "          element.appendChild(docLink);\n",
              "        }\n",
              "      </script>\n",
              "    </div>\n",
              "  </div>\n",
              "  "
            ]
          },
          "metadata": {},
          "execution_count": 2
        }
      ]
    },
    {
      "cell_type": "code",
      "source": [
        "print('\\033[1m' + '------------------ Shape ------------------' + '\\033[0m')\n",
        "print(dataset.shape)\n",
        "print('\\033[1m' + '------------------ Types ------------------' + '\\033[0m')\n",
        "print(dataset.dtypes)\n",
        "print('\\033[1m' + '------------------ Head ------------------' + '\\033[0m')\n",
        "print(dataset.head())\n",
        "print('\\033[1m' + '------------------ Tail ------------------' + '\\033[0m')\n",
        "print(dataset.head())\n",
        "print('\\033[1m' + '--------------- Unique Elements ---------------' + '\\033[0m')\n",
        "print(dataset.nunique())\n",
        "print('\\033[1m' + '------------------ NA ------------------' + '\\033[0m')\n",
        "print(dataset.isnull().sum())\n",
        "print('\\033[1m' + '------------------ Quantiles ------------------' + '\\033[0m')\n",
        "print(dataset.describe([0, 0.05, 0.50, 0.95, 0.99, 1]).T)\n",
        "print('\\033[1m' + '------------------ Sample ------------------' + '\\033[0m')\n",
        "print(dataset.sample(5))"
      ],
      "metadata": {
        "colab": {
          "base_uri": "https://localhost:8080/"
        },
        "id": "JP0AyCech6MK",
        "outputId": "7629a5f6-6302-47f6-ec17-b5320a8a100f"
      },
      "execution_count": 158,
      "outputs": [
        {
          "output_type": "stream",
          "name": "stdout",
          "text": [
            "\u001b[1m------------------ Shape ------------------\u001b[0m\n",
            "(918, 12)\n",
            "\u001b[1m------------------ Types ------------------\u001b[0m\n",
            "Age                 int64\n",
            "Sex                object\n",
            "ChestPainType      object\n",
            "RestingBP           int64\n",
            "Cholesterol         int64\n",
            "FastingBS           int64\n",
            "RestingECG         object\n",
            "MaxHR               int64\n",
            "ExerciseAngina     object\n",
            "Oldpeak           float64\n",
            "ST_Slope           object\n",
            "HeartDisease        int64\n",
            "dtype: object\n",
            "\u001b[1m------------------ Head ------------------\u001b[0m\n",
            "   Age Sex ChestPainType  RestingBP  Cholesterol  FastingBS RestingECG  MaxHR  \\\n",
            "0   40   M           ATA        140          289          0     Normal    172   \n",
            "1   49   F           NAP        160          180          0     Normal    156   \n",
            "2   37   M           ATA        130          283          0         ST     98   \n",
            "3   48   F           ASY        138          214          0     Normal    108   \n",
            "4   54   M           NAP        150          195          0     Normal    122   \n",
            "\n",
            "  ExerciseAngina  Oldpeak ST_Slope  HeartDisease  \n",
            "0              N      0.0       Up             0  \n",
            "1              N      1.0     Flat             1  \n",
            "2              N      0.0       Up             0  \n",
            "3              Y      1.5     Flat             1  \n",
            "4              N      0.0       Up             0  \n",
            "\u001b[1m------------------ Tail ------------------\u001b[0m\n",
            "   Age Sex ChestPainType  RestingBP  Cholesterol  FastingBS RestingECG  MaxHR  \\\n",
            "0   40   M           ATA        140          289          0     Normal    172   \n",
            "1   49   F           NAP        160          180          0     Normal    156   \n",
            "2   37   M           ATA        130          283          0         ST     98   \n",
            "3   48   F           ASY        138          214          0     Normal    108   \n",
            "4   54   M           NAP        150          195          0     Normal    122   \n",
            "\n",
            "  ExerciseAngina  Oldpeak ST_Slope  HeartDisease  \n",
            "0              N      0.0       Up             0  \n",
            "1              N      1.0     Flat             1  \n",
            "2              N      0.0       Up             0  \n",
            "3              Y      1.5     Flat             1  \n",
            "4              N      0.0       Up             0  \n",
            "\u001b[1m--------------- Unique Elements ---------------\u001b[0m\n",
            "Age                50\n",
            "Sex                 2\n",
            "ChestPainType       4\n",
            "RestingBP          67\n",
            "Cholesterol       222\n",
            "FastingBS           2\n",
            "RestingECG          3\n",
            "MaxHR             119\n",
            "ExerciseAngina      2\n",
            "Oldpeak            53\n",
            "ST_Slope            3\n",
            "HeartDisease        2\n",
            "dtype: int64\n",
            "\u001b[1m------------------ NA ------------------\u001b[0m\n",
            "Age               0\n",
            "Sex               0\n",
            "ChestPainType     0\n",
            "RestingBP         0\n",
            "Cholesterol       0\n",
            "FastingBS         0\n",
            "RestingECG        0\n",
            "MaxHR             0\n",
            "ExerciseAngina    0\n",
            "Oldpeak           0\n",
            "ST_Slope          0\n",
            "HeartDisease      0\n",
            "dtype: int64\n",
            "\u001b[1m------------------ Quantiles ------------------\u001b[0m\n",
            "              count        mean         std   min    0%     5%    50%    95%  \\\n",
            "Age           918.0   53.510893    9.432617  28.0  28.0   37.0   54.0   68.0   \n",
            "RestingBP     918.0  132.396514   18.514154   0.0   0.0  106.0  130.0  160.0   \n",
            "Cholesterol   918.0  198.799564  109.384145   0.0   0.0    0.0  223.0  331.3   \n",
            "FastingBS     918.0    0.233115    0.423046   0.0   0.0    0.0    0.0    1.0   \n",
            "MaxHR         918.0  136.809368   25.460334  60.0  60.0   96.0  138.0  178.0   \n",
            "Oldpeak       918.0    0.887364    1.066570  -2.6  -2.6    0.0    0.6    3.0   \n",
            "HeartDisease  918.0    0.553377    0.497414   0.0   0.0    0.0    1.0    1.0   \n",
            "\n",
            "                 99%   100%    max  \n",
            "Age            74.00   77.0   77.0  \n",
            "RestingBP     180.00  200.0  200.0  \n",
            "Cholesterol   411.49  603.0  603.0  \n",
            "FastingBS       1.00    1.0    1.0  \n",
            "MaxHR         186.00  202.0  202.0  \n",
            "Oldpeak         4.00    6.2    6.2  \n",
            "HeartDisease    1.00    1.0    1.0  \n",
            "\u001b[1m------------------ Sample ------------------\u001b[0m\n",
            "     Age Sex ChestPainType  RestingBP  Cholesterol  FastingBS RestingECG  \\\n",
            "308   58   M           ASY        115            0          1     Normal   \n",
            "791   51   M           ASY        140          298          0     Normal   \n",
            "68    52   M           ASY        160          246          0         ST   \n",
            "111   57   M           ASY        150          255          0     Normal   \n",
            "354   55   M           ASY        120            0          0         ST   \n",
            "\n",
            "     MaxHR ExerciseAngina  Oldpeak ST_Slope  HeartDisease  \n",
            "308    138              N      0.5       Up             1  \n",
            "791    122              Y      4.2     Flat             1  \n",
            "68      82              Y      4.0     Flat             1  \n",
            "111     92              Y      3.0     Flat             1  \n",
            "354     92              N      0.3       Up             1  \n"
          ]
        }
      ]
    },
    {
      "cell_type": "code",
      "source": [
        "# see the distrubution of heart disesed \n",
        "dataset.HeartDisease.value_counts()"
      ],
      "metadata": {
        "colab": {
          "base_uri": "https://localhost:8080/"
        },
        "id": "hqpIYT-1f9Ww",
        "outputId": "17ba74ac-4329-4b00-c1ef-34459e0724ff"
      },
      "execution_count": 152,
      "outputs": [
        {
          "output_type": "execute_result",
          "data": {
            "text/plain": [
              "1    508\n",
              "0    410\n",
              "Name: HeartDisease, dtype: int64"
            ]
          },
          "metadata": {},
          "execution_count": 152
        }
      ]
    },
    {
      "cell_type": "code",
      "source": [
        "# see the distrubution of gender\n",
        "dataset.Sex.value_counts()"
      ],
      "metadata": {
        "colab": {
          "base_uri": "https://localhost:8080/"
        },
        "id": "FItb06x9grkH",
        "outputId": "a0237d0f-5e54-4231-c30f-59f9ee6c7bfb"
      },
      "execution_count": 153,
      "outputs": [
        {
          "output_type": "execute_result",
          "data": {
            "text/plain": [
              "M    725\n",
              "F    193\n",
              "Name: Sex, dtype: int64"
            ]
          },
          "metadata": {},
          "execution_count": 153
        }
      ]
    },
    {
      "cell_type": "code",
      "source": [
        "# see the distrubution of Age\n",
        "dataset.Age.value_counts()"
      ],
      "metadata": {
        "colab": {
          "base_uri": "https://localhost:8080/"
        },
        "id": "gV5iOl75g52Y",
        "outputId": "4ffe94fc-6c56-455c-b5a7-eeaf78a2cc69"
      },
      "execution_count": 154,
      "outputs": [
        {
          "output_type": "execute_result",
          "data": {
            "text/plain": [
              "54    51\n",
              "58    42\n",
              "55    41\n",
              "56    38\n",
              "57    38\n",
              "52    36\n",
              "51    35\n",
              "59    35\n",
              "62    35\n",
              "53    33\n",
              "60    32\n",
              "48    31\n",
              "61    31\n",
              "63    30\n",
              "50    25\n",
              "46    24\n",
              "41    24\n",
              "43    24\n",
              "64    22\n",
              "65    21\n",
              "49    21\n",
              "47    19\n",
              "44    19\n",
              "42    18\n",
              "45    18\n",
              "38    16\n",
              "67    15\n",
              "39    15\n",
              "66    13\n",
              "69    13\n",
              "40    13\n",
              "35    11\n",
              "37    11\n",
              "68    10\n",
              "34     7\n",
              "74     7\n",
              "70     7\n",
              "36     6\n",
              "71     5\n",
              "32     5\n",
              "72     4\n",
              "29     3\n",
              "75     3\n",
              "33     2\n",
              "77     2\n",
              "76     2\n",
              "31     2\n",
              "30     1\n",
              "28     1\n",
              "73     1\n",
              "Name: Age, dtype: int64"
            ]
          },
          "metadata": {},
          "execution_count": 154
        }
      ]
    },
    {
      "cell_type": "code",
      "source": [
        "## EDA\n",
        "dataset.groupby(['Sex']).sum().plot( kind='pie', y='HeartDisease', autopct='%1.0f%%')"
      ],
      "metadata": {
        "colab": {
          "base_uri": "https://localhost:8080/",
          "height": 266
        },
        "id": "N98RgkUmoVif",
        "outputId": "bdf13eb6-70a6-4ecd-bd3c-272a5f65a84d"
      },
      "execution_count": 181,
      "outputs": [
        {
          "output_type": "execute_result",
          "data": {
            "text/plain": [
              "<matplotlib.axes._subplots.AxesSubplot at 0x7fd7d826c150>"
            ]
          },
          "metadata": {},
          "execution_count": 181
        },
        {
          "output_type": "display_data",
          "data": {
            "text/plain": [
              "<Figure size 432x288 with 1 Axes>"
            ],
            "image/png": "[encoded data removed]"
          },
          "metadata": {}
        }
      ]
    },
    {
      "cell_type": "code",
      "source": [
        "group = dataset.groupby(by='HeartDisease')\n",
        "heart_disease = group.get_group(1)\n",
        "without_heart_disease = group.get_group(0)\n",
        "\n",
        "fig, axs = plt.subplots(nrows=1, ncols=2, figsize=(14, 4))\n",
        "\n",
        "ax1 = heart_disease['Age'].plot(kind='hist', ax=axs[0])\n",
        "ax1.set_title('With Heart Disease', size=12.5)\n",
        "ax1.set_xlabel(\"Age\")\n",
        "\n",
        "ax2 = without_heart_disease['Age'].plot(kind='hist', ax=axs[1])\n",
        "ax2.set_title('Without Heart Disease', size=12.5)\n",
        "ax2.set_xlabel(\"Age\")\n",
        "\n",
        "\n",
        "fig.suptitle('Distribution of Ages by Heart Disease', size=16, c='#000')\n",
        "plt.show()"
      ],
      "metadata": {
        "colab": {
          "base_uri": "https://localhost:8080/",
          "height": 308
        },
        "id": "v1deJGBgi50I",
        "outputId": "398512d8-0797-41dd-d77d-eb7e6ce7815d"
      },
      "execution_count": 162,
      "outputs": [
        {
          "output_type": "display_data",
          "data": {
            "text/plain": [
              "<Figure size 1008x288 with 2 Axes>"
            ],
            "image/png": "[encoded data removed]"
          },
          "metadata": {
            "needs_background": "light"
          }
        }
      ]
    },
    {
      "cell_type": "code",
      "source": [
        "fig = px.bar(dataset, x=\"HeartDisease\", y=\"RestingBP\", barmode=\"group\", color=\"Age\", facet_col=\"Sex\")\n",
        "fig"
      ],
      "metadata": {
        "colab": {
          "base_uri": "https://localhost:8080/",
          "height": 542
        },
        "id": "kOOfQDWukaAL",
        "outputId": "f28a2594-045b-4f6f-c97c-768c235b1a25"
      },
      "execution_count": 180,
      "outputs": [
        {
          "output_type": "display_data",
          "data": {
            "text/html": [
              "<html>\n",
              "<head><meta charset=\"utf-8\" /></head>\n",
              "<body>\n",
              "    <div>            <script src=\"https://cdnjs.cloudflare.com/ajax/libs/mathjax/2.7.5/MathJax.js?config=TeX-AMS-MML_SVG\"></script><script type=\"text/javascript\">if (window.MathJax) {MathJax.Hub.Config({SVG: {font: \"STIX-Web\"}});}</script>                <script type=\"text/javascript\">window.PlotlyConfig = {MathJaxConfig: 'local'};</script>\n",
              "        <script src=\"https://cdn.plot.ly/plotly-2.8.3.min.js\"></script>                <div id=\"94f75da2-b570-4195-83d8-f5a34fd7dc3c\" class=\"plotly-graph-div\" style=\"height:525px; width:100%;\"></div>            <script type=\"text/javascript\">                                    window.PLOTLYENV=window.PLOTLYENV || {};                                    if (document.getElementById(\"94f75da2-b570-4195-83d8-f5a34fd7dc3c\")) {                    Plotly.newPlot(                        \"94f75da2-b570-4195-83d8-f5a34fd7dc3c\",                        [{\"alignmentgroup\":\"True\",\"hovertemplate\":\"Sex=M<br>HeartDisease=%{x}<br>RestingBP=%{y}<br>Age=%{marker.color}<extra></extra>\",\"legendgroup\":\"\",\"marker\":{\"color\":[40,37,54,39,54,37,58,39,49,38,60,36,44,44,40,36,53,52,51,53,56,54,41,32,65,35,52,43,59,37,50,36,41,50,45,31,58,54,52,49,45,46,32,52,44,57,44,52,55,46,32,52,49,55,54,63,52,56,66,65,43,55,39,48,58,43,39,56,41,65,51,40,46,57,34,50,39,57,47,38,38,34,46,58,54,42,38,46,56,56,49,39,54,43,52,50,47,53,39,42,50,54,39,48,40,55,41,56,38,49,44,54,59,49,47,42,46,50,48,58,58,29,40,53,49,52,43,54,59,37,52,51,52,46,58,58,41,53,46,50,48,45,49,42,53,47,46,42,56,50,35,35,28,54,48,56,47,39,54,55,29,46,33,55,50,53,38,41,37,40,41,39,41,55,48,48,55,54,55,48,54,54,48,45,49,44,48,61,62,55,36,46,46,59,47,54,52,34,54,45,55,55,59,51,52,60,49,42,59,53,36,48,53,65,32,61,50,57,51,47,60,55,53,51,55,53,58,57,65,60,41,34,53,74,57,56,61,68,59,63,62,46,42,45,59,52,60,60,56,38,40,51,62,72,63,63,43,64,61,52,51,69,59,48,69,36,53,43,56,58,55,67,46,53,38,53,62,47,56,56,56,61,68,57,63,60,66,63,59,61,47,65,70,50,60,50,43,54,61,42,53,55,61,51,70,61,38,57,38,58,52,61,51,65,52,47,35,57,62,59,53,62,54,56,56,54,63,44,60,55,66,66,65,60,60,60,56,59,62,63,57,62,63,46,63,60,58,64,63,74,52,69,51,60,56,55,54,77,63,55,52,64,60,60,58,59,61,40,61,41,57,63,59,51,59,42,55,62,56,53,68,53,60,62,59,51,61,57,56,58,69,67,58,65,63,55,57,65,54,72,75,49,51,60,58,61,67,62,65,63,69,51,62,55,75,40,67,58,60,63,35,62,43,63,68,65,48,63,64,61,50,59,55,45,65,61,49,72,50,64,55,63,59,56,62,74,54,57,62,76,70,48,48,61,66,68,55,62,71,74,53,58,75,56,58,64,54,54,59,55,57,61,41,71,38,55,56,69,64,72,69,56,62,67,57,69,51,48,69,69,64,57,53,37,67,74,63,58,61,64,58,60,57,55,55,56,57,61,61,74,68,62,53,62,46,62,55,58,62,70,57,64,65,56,59,60,59,53,44,61,46,53,64,40,67,48,43,47,58,57,66,59,50,48,61,59,42,48,40,44,46,59,58,49,44,66,42,52,61,62,57,44,63,57,51,47,61,70,45,45,56,58,35,58,41,57,42,62,59,50,59,54,54,52,47,66,58,67,57,63,48,51,59,41,42,46,56,49,54,57,54,62,52,60,66,42,64,54,56,57,64,59,50,51,54,53,52,40,58,41,55,45,56,38,55,58,43,53,65,69,69,67,34,51,46,67,50,42,41,53,43,56,52,70,54,70,54,35,48,77,68,58,60,51,55,52,58,64,37,59,51,58,29,51,54,44,54,65,57,63,41,52,39,45,52,62,43,47,52,68,39,60,65,60,60,54,44,44,51,59,61,55,64,43,60,58,49,48,52,44,57,67,52,43,52,59,64,57,57,47,35,61,58,58,56,56,67,44,63,41,59,45,68,57,38],\"coloraxis\":\"coloraxis\",\"pattern\":{\"shape\":\"\"}},\"name\":\"\",\"offsetgroup\":\"\",\"orientation\":\"v\",\"showlegend\":false,\"textposition\":\"auto\",\"x\":[0,0,0,0,0,1,1,0,1,1,1,1,0,1,0,0,0,0,0,1,0,1,1,0,1,0,0,1,0,0,0,0,1,1,0,1,1,0,1,0,0,1,0,1,0,1,0,1,1,0,1,0,1,0,0,1,0,1,1,1,1,0,0,1,1,0,0,0,0,1,0,1,1,0,0,0,0,1,0,0,1,1,0,0,0,0,0,1,1,1,1,0,1,1,1,1,1,0,0,0,0,1,0,0,0,0,0,1,1,0,1,0,1,1,0,0,1,1,0,0,0,0,0,0,0,1,1,1,0,0,1,0,1,0,1,0,1,1,0,0,0,0,0,0,1,0,0,0,0,0,0,1,0,1,1,0,1,1,0,0,0,1,0,0,1,0,1,0,0,0,0,0,1,1,1,1,0,1,1,1,0,1,1,1,1,1,1,0,0,1,0,0,1,1,1,0,1,0,1,0,1,0,0,1,1,0,1,0,0,0,0,0,0,1,1,1,1,1,1,1,1,0,1,1,1,0,1,1,0,1,1,1,0,1,1,1,1,1,1,1,1,1,1,0,1,1,1,1,1,0,1,1,1,0,1,1,1,1,1,1,1,1,1,1,1,1,1,1,1,1,1,1,1,1,1,1,1,1,1,1,0,1,1,1,1,1,1,1,1,1,1,1,1,1,1,1,1,1,1,1,1,1,1,1,1,1,1,1,1,1,1,1,1,1,1,1,1,1,1,1,1,1,1,1,1,1,1,0,1,1,0,0,1,0,1,1,0,1,1,1,1,0,1,1,0,0,1,1,1,0,1,1,1,1,1,1,1,1,1,1,1,1,1,0,1,0,1,1,1,0,1,1,1,0,1,0,1,1,0,1,1,1,1,0,1,0,1,1,1,1,1,1,1,1,1,0,1,0,1,1,1,1,1,1,0,1,1,1,1,1,1,0,1,1,1,0,1,1,0,1,0,1,1,0,1,1,1,1,0,1,1,1,0,0,1,0,1,1,1,1,1,1,1,1,1,1,1,0,1,1,1,0,1,1,1,0,1,0,1,1,0,1,0,1,1,1,0,0,0,1,1,1,0,1,1,1,1,1,1,1,1,1,1,1,1,1,1,1,1,0,1,1,1,0,1,1,0,0,1,1,1,1,1,0,1,1,0,1,1,1,0,1,1,1,1,0,1,0,1,1,1,0,0,1,1,1,0,0,0,1,1,1,0,0,1,0,0,0,1,1,0,1,1,1,1,1,0,0,1,0,0,1,0,1,1,1,1,0,1,1,0,0,0,1,0,1,1,0,1,0,0,1,1,1,0,0,0,0,0,1,0,1,1,1,1,0,1,1,1,1,1,0,1,0,0,1,1,1,1,1,0,1,0,1,1,0,1,0,1,0,1,0,1,0,1,1,1,1,1,0,1,0,0,1,0,1,0,0,1,0,1,1,0,1,1,1,0,0,1,0,0,1,0,1,0,1,0,1,0,1,0,1,1,1,1,0,0,1,0,1,0,1,0,0,0,0,1,1,0,1,0,0,1,0,1,0,1,0,0,1,0,1,1,1,1,1,0,1,0,0,0,1,1,0,1,1,0,1,0,0,0,1,0,1,1,1,0,1,1,0,0,1,1,0,0,0,1,1,1,0,1,1,1,1,0],\"xaxis\":\"x\",\"y\":[140,130,150,120,110,140,136,120,140,110,100,120,120,150,130,130,124,120,125,145,130,125,130,125,140,150,140,120,130,120,140,112,110,130,140,120,130,150,112,100,140,120,110,160,150,140,130,120,140,150,118,140,130,110,120,150,160,150,140,170,120,140,130,160,130,142,160,120,125,130,130,120,118,140,150,140,190,150,140,140,120,140,110,130,120,120,145,110,170,150,115,120,140,150,160,140,160,140,110,120,120,130,130,100,130,120,120,155,110,140,130,160,140,128,160,120,140,140,140,135,140,120,140,140,140,140,140,140,140,130,130,130,140,110,160,130,120,180,180,170,130,135,120,150,120,110,120,160,130,150,120,110,130,125,106,130,150,110,120,140,140,130,120,120,145,120,92,120,130,130,112,120,120,140,160,160,145,200,160,160,120,120,122,130,130,135,120,125,140,145,150,140,120,130,140,160,130,98,130,120,140,120,180,135,170,120,150,140,140,120,120,110,130,115,95,105,145,110,110,110,160,140,125,95,115,130,115,95,155,125,125,115,80,145,105,140,130,145,125,100,115,100,105,110,125,95,130,115,115,100,95,130,120,160,150,140,100,110,110,130,120,135,120,115,137,110,120,140,120,130,120,145,115,120,115,105,160,160,155,120,120,150,135,140,150,135,150,185,135,125,155,160,140,120,160,115,115,120,150,145,130,140,160,140,115,130,150,160,135,170,165,200,130,145,135,110,120,140,115,110,160,150,180,125,125,130,140,130,132,142,110,120,150,180,120,160,126,140,110,133,128,120,170,110,126,152,116,120,130,138,128,130,128,130,120,136,130,124,160,0,122,144,140,120,136,154,120,125,134,104,139,136,122,128,131,134,120,152,124,126,138,154,141,131,178,132,110,130,170,126,140,142,120,134,139,110,140,140,136,120,170,130,137,142,132,146,160,135,136,130,140,132,158,136,136,106,120,110,136,160,123,112,122,130,150,150,102,96,130,120,144,124,150,130,144,139,131,143,133,143,116,110,125,130,133,150,130,110,138,104,170,132,132,142,112,139,172,120,144,145,155,150,160,137,137,134,133,132,140,135,144,141,150,130,110,158,128,140,150,160,142,137,139,146,156,145,131,140,122,142,141,180,124,118,140,140,136,100,190,130,160,130,122,133,120,130,130,140,120,155,134,160,144,158,134,135,122,140,120,130,124,128,120,130,110,140,135,142,140,134,140,140,110,140,120,130,115,112,112,128,160,170,144,130,140,160,130,122,152,130,101,126,140,118,110,160,136,128,138,120,150,120,145,150,140,108,120,156,142,104,120,146,120,150,130,110,148,128,178,150,140,124,110,125,110,120,100,120,165,130,124,100,140,110,120,120,130,120,122,152,125,120,134,117,112,140,120,150,125,132,145,138,140,125,192,123,112,110,132,112,140,128,120,120,130,128,110,130,138,160,140,100,118,140,150,125,129,120,110,130,130,132,108,160,140,145,108,126,124,125,118,125,125,140,160,152,105,125,130,170,125,128,130,94,120,120,110,135,150,130,135,118,118,115,128,130,120,138,120,180,140,130,110,140,145,120,130,112,110,150,150,132,140,150,130,120,130,110,172,120,140,160,138,132,128,134,170,154,110,130,122,148,114,125,130,120,152,120,140,120,164,110,144,130,138],\"yaxis\":\"y\",\"type\":\"bar\"},{\"alignmentgroup\":\"True\",\"hovertemplate\":\"Sex=F<br>HeartDisease=%{x}<br>RestingBP=%{y}<br>Age=%{marker.color}<extra></extra>\",\"legendgroup\":\"\",\"marker\":{\"color\":[49,48,45,48,37,42,54,43,43,49,53,43,41,48,48,54,54,47,41,52,51,43,50,37,45,44,35,53,49,52,39,40,48,59,49,33,59,35,47,52,58,34,48,54,61,43,56,43,52,46,54,50,41,62,57,31,50,56,30,51,48,37,38,54,43,53,55,51,55,54,47,32,45,57,54,51,55,51,48,47,62,51,38,64,64,73,38,62,50,66,63,64,54,61,51,54,67,74,63,57,71,54,48,46,51,71,37,62,65,65,63,45,41,60,59,51,60,58,44,57,76,67,39,42,41,61,64,50,44,49,60,45,55,60,54,49,56,66,65,54,52,63,46,67,34,41,50,54,64,51,46,66,62,64,50,45,68,62,56,42,62,55,58,54,69,60,43,41,63,35,62,43,58,61,62,53,53,62,51,65,71,58,56,53,66,39,58,55,58,55,63,57,57],\"coloraxis\":\"coloraxis\",\"pattern\":{\"shape\":\"\"}},\"name\":\"\",\"offsetgroup\":\"\",\"orientation\":\"v\",\"showlegend\":false,\"textposition\":\"auto\",\"x\":[1,1,0,0,0,0,0,0,0,0,0,0,0,0,0,0,1,1,0,0,0,0,0,0,0,0,0,0,0,0,0,1,0,0,0,1,1,0,1,0,1,0,0,0,0,0,1,0,0,0,0,0,0,0,0,0,1,0,0,1,0,0,0,0,0,0,0,0,0,0,0,0,0,0,0,0,0,0,0,0,1,1,1,1,1,1,1,1,1,1,0,1,1,0,0,1,0,0,1,0,0,0,0,0,0,0,0,0,1,0,0,0,0,0,1,1,0,1,0,0,0,0,0,0,0,1,0,0,0,0,1,0,1,1,0,0,1,0,0,0,0,1,0,0,0,0,0,0,0,0,0,1,1,0,0,0,0,1,1,0,0,0,0,0,0,0,0,0,0,0,1,1,0,1,1,0,0,1,0,0,0,0,0,0,0,0,0,1,1,0,1,1,1],\"xaxis\":\"x2\",\"y\":[160,138,130,120,130,115,120,120,100,124,113,150,110,120,150,150,130,120,130,130,160,150,110,120,132,120,140,140,110,120,110,150,120,130,130,100,130,120,135,125,180,130,108,120,130,120,120,120,140,130,160,120,125,160,130,100,140,130,170,160,120,130,120,140,120,120,130,150,122,120,130,105,180,180,130,130,110,110,133,140,120,120,105,95,200,160,110,140,160,155,132,142,138,140,114,127,115,120,150,128,112,132,130,138,120,110,120,124,150,140,140,130,105,120,174,130,150,136,118,120,140,106,94,120,126,130,140,120,108,130,150,112,180,158,135,134,200,150,160,160,136,108,142,152,118,112,120,108,130,130,105,178,150,180,110,138,120,138,134,102,140,135,100,110,140,102,122,130,135,138,130,132,150,145,160,138,130,140,140,155,160,120,140,128,146,138,130,128,170,132,124,140,130],\"yaxis\":\"y2\",\"type\":\"bar\"}],                        {\"template\":{\"data\":{\"bar\":[{\"error_x\":{\"color\":\"#2a3f5f\"},\"error_y\":{\"color\":\"#2a3f5f\"},\"marker\":{\"line\":{\"color\":\"#E5ECF6\",\"width\":0.5},\"pattern\":{\"fillmode\":\"overlay\",\"size\":10,\"solidity\":0.2}},\"type\":\"bar\"}],\"barpolar\":[{\"marker\":{\"line\":{\"color\":\"#E5ECF6\",\"width\":0.5},\"pattern\":{\"fillmode\":\"overlay\",\"size\":10,\"solidity\":0.2}},\"type\":\"barpolar\"}],\"carpet\":[{\"aaxis\":{\"endlinecolor\":\"#2a3f5f\",\"gridcolor\":\"white\",\"linecolor\":\"white\",\"minorgridcolor\":\"white\",\"startlinecolor\":\"#2a3f5f\"},\"baxis\":{\"endlinecolor\":\"#2a3f5f\",\"gridcolor\":\"white\",\"linecolor\":\"white\",\"minorgridcolor\":\"white\",\"startlinecolor\":\"#2a3f5f\"},\"type\":\"carpet\"}],\"choropleth\":[{\"colorbar\":{\"outlinewidth\":0,\"ticks\":\"\"},\"type\":\"choropleth\"}],\"contour\":[{\"colorbar\":{\"outlinewidth\":0,\"ticks\":\"\"},\"colorscale\":[[0.0,\"#0d0887\"],[0.1111111111111111,\"#46039f\"],[0.2222222222222222,\"#7201a8\"],[0.3333333333333333,\"#9c179e\"],[0.4444444444444444,\"#bd3786\"],[0.5555555555555556,\"#d8576b\"],[0.6666666666666666,\"#ed7953\"],[0.7777777777777778,\"#fb9f3a\"],[0.8888888888888888,\"#fdca26\"],[1.0,\"#f0f921\"]],\"type\":\"contour\"}],\"contourcarpet\":[{\"colorbar\":{\"outlinewidth\":0,\"ticks\":\"\"},\"type\":\"contourcarpet\"}],\"heatmap\":[{\"colorbar\":{\"outlinewidth\":0,\"ticks\":\"\"},\"colorscale\":[[0.0,\"#0d0887\"],[0.1111111111111111,\"#46039f\"],[0.2222222222222222,\"#7201a8\"],[0.3333333333333333,\"#9c179e\"],[0.4444444444444444,\"#bd3786\"],[0.5555555555555556,\"#d8576b\"],[0.6666666666666666,\"#ed7953\"],[0.7777777777777778,\"#fb9f3a\"],[0.8888888888888888,\"#fdca26\"],[1.0,\"#f0f921\"]],\"type\":\"heatmap\"}],\"heatmapgl\":[{\"colorbar\":{\"outlinewidth\":0,\"ticks\":\"\"},\"colorscale\":[[0.0,\"#0d0887\"],[0.1111111111111111,\"#46039f\"],[0.2222222222222222,\"#7201a8\"],[0.3333333333333333,\"#9c179e\"],[0.4444444444444444,\"#bd3786\"],[0.5555555555555556,\"#d8576b\"],[0.6666666666666666,\"#ed7953\"],[0.7777777777777778,\"#fb9f3a\"],[0.8888888888888888,\"#fdca26\"],[1.0,\"#f0f921\"]],\"type\":\"heatmapgl\"}],\"histogram\":[{\"marker\":{\"pattern\":{\"fillmode\":\"overlay\",\"size\":10,\"solidity\":0.2}},\"type\":\"histogram\"}],\"histogram2d\":[{\"colorbar\":{\"outlinewidth\":0,\"ticks\":\"\"},\"colorscale\":[[0.0,\"#0d0887\"],[0.1111111111111111,\"#46039f\"],[0.2222222222222222,\"#7201a8\"],[0.3333333333333333,\"#9c179e\"],[0.4444444444444444,\"#bd3786\"],[0.5555555555555556,\"#d8576b\"],[0.6666666666666666,\"#ed7953\"],[0.7777777777777778,\"#fb9f3a\"],[0.8888888888888888,\"#fdca26\"],[1.0,\"#f0f921\"]],\"type\":\"histogram2d\"}],\"histogram2dcontour\":[{\"colorbar\":{\"outlinewidth\":0,\"ticks\":\"\"},\"colorscale\":[[0.0,\"#0d0887\"],[0.1111111111111111,\"#46039f\"],[0.2222222222222222,\"#7201a8\"],[0.3333333333333333,\"#9c179e\"],[0.4444444444444444,\"#bd3786\"],[0.5555555555555556,\"#d8576b\"],[0.6666666666666666,\"#ed7953\"],[0.7777777777777778,\"#fb9f3a\"],[0.8888888888888888,\"#fdca26\"],[1.0,\"#f0f921\"]],\"type\":\"histogram2dcontour\"}],\"mesh3d\":[{\"colorbar\":{\"outlinewidth\":0,\"ticks\":\"\"},\"type\":\"mesh3d\"}],\"parcoords\":[{\"line\":{\"colorbar\":{\"outlinewidth\":0,\"ticks\":\"\"}},\"type\":\"parcoords\"}],\"pie\":[{\"automargin\":true,\"type\":\"pie\"}],\"scatter\":[{\"marker\":{\"colorbar\":{\"outlinewidth\":0,\"ticks\":\"\"}},\"type\":\"scatter\"}],\"scatter3d\":[{\"line\":{\"colorbar\":{\"outlinewidth\":0,\"ticks\":\"\"}},\"marker\":{\"colorbar\":{\"outlinewidth\":0,\"ticks\":\"\"}},\"type\":\"scatter3d\"}],\"scattercarpet\":[{\"marker\":{\"colorbar\":{\"outlinewidth\":0,\"ticks\":\"\"}},\"type\":\"scattercarpet\"}],\"scattergeo\":[{\"marker\":{\"colorbar\":{\"outlinewidth\":0,\"ticks\":\"\"}},\"type\":\"scattergeo\"}],\"scattergl\":[{\"marker\":{\"colorbar\":{\"outlinewidth\":0,\"ticks\":\"\"}},\"type\":\"scattergl\"}],\"scattermapbox\":[{\"marker\":{\"colorbar\":{\"outlinewidth\":0,\"ticks\":\"\"}},\"type\":\"scattermapbox\"}],\"scatterpolar\":[{\"marker\":{\"colorbar\":{\"outlinewidth\":0,\"ticks\":\"\"}},\"type\":\"scatterpolar\"}],\"scatterpolargl\":[{\"marker\":{\"colorbar\":{\"outlinewidth\":0,\"ticks\":\"\"}},\"type\":\"scatterpolargl\"}],\"scatterternary\":[{\"marker\":{\"colorbar\":{\"outlinewidth\":0,\"ticks\":\"\"}},\"type\":\"scatterternary\"}],\"surface\":[{\"colorbar\":{\"outlinewidth\":0,\"ticks\":\"\"},\"colorscale\":[[0.0,\"#0d0887\"],[0.1111111111111111,\"#46039f\"],[0.2222222222222222,\"#7201a8\"],[0.3333333333333333,\"#9c179e\"],[0.4444444444444444,\"#bd3786\"],[0.5555555555555556,\"#d8576b\"],[0.6666666666666666,\"#ed7953\"],[0.7777777777777778,\"#fb9f3a\"],[0.8888888888888888,\"#fdca26\"],[1.0,\"#f0f921\"]],\"type\":\"surface\"}],\"table\":[{\"cells\":{\"fill\":{\"color\":\"#EBF0F8\"},\"line\":{\"color\":\"white\"}},\"header\":{\"fill\":{\"color\":\"#C8D4E3\"},\"line\":{\"color\":\"white\"}},\"type\":\"table\"}]},\"layout\":{\"annotationdefaults\":{\"arrowcolor\":\"#2a3f5f\",\"arrowhead\":0,\"arrowwidth\":1},\"autotypenumbers\":\"strict\",\"coloraxis\":{\"colorbar\":{\"outlinewidth\":0,\"ticks\":\"\"}},\"colorscale\":{\"diverging\":[[0,\"#8e0152\"],[0.1,\"#c51b7d\"],[0.2,\"#de77ae\"],[0.3,\"#f1b6da\"],[0.4,\"#fde0ef\"],[0.5,\"#f7f7f7\"],[0.6,\"#e6f5d0\"],[0.7,\"#b8e186\"],[0.8,\"#7fbc41\"],[0.9,\"#4d9221\"],[1,\"#276419\"]],\"sequential\":[[0.0,\"#0d0887\"],[0.1111111111111111,\"#46039f\"],[0.2222222222222222,\"#7201a8\"],[0.3333333333333333,\"#9c179e\"],[0.4444444444444444,\"#bd3786\"],[0.5555555555555556,\"#d8576b\"],[0.6666666666666666,\"#ed7953\"],[0.7777777777777778,\"#fb9f3a\"],[0.8888888888888888,\"#fdca26\"],[1.0,\"#f0f921\"]],\"sequentialminus\":[[0.0,\"#0d0887\"],[0.1111111111111111,\"#46039f\"],[0.2222222222222222,\"#7201a8\"],[0.3333333333333333,\"#9c179e\"],[0.4444444444444444,\"#bd3786\"],[0.5555555555555556,\"#d8576b\"],[0.6666666666666666,\"#ed7953\"],[0.7777777777777778,\"#fb9f3a\"],[0.8888888888888888,\"#fdca26\"],[1.0,\"#f0f921\"]]},\"colorway\":[\"#636efa\",\"#EF553B\",\"#00cc96\",\"#ab63fa\",\"#FFA15A\",\"#19d3f3\",\"#FF6692\",\"#B6E880\",\"#FF97FF\",\"#FECB52\"],\"font\":{\"color\":\"#2a3f5f\"},\"geo\":{\"bgcolor\":\"white\",\"lakecolor\":\"white\",\"landcolor\":\"#E5ECF6\",\"showlakes\":true,\"showland\":true,\"subunitcolor\":\"white\"},\"hoverlabel\":{\"align\":\"left\"},\"hovermode\":\"closest\",\"mapbox\":{\"style\":\"light\"},\"paper_bgcolor\":\"white\",\"plot_bgcolor\":\"#E5ECF6\",\"polar\":{\"angularaxis\":{\"gridcolor\":\"white\",\"linecolor\":\"white\",\"ticks\":\"\"},\"bgcolor\":\"#E5ECF6\",\"radialaxis\":{\"gridcolor\":\"white\",\"linecolor\":\"white\",\"ticks\":\"\"}},\"scene\":{\"xaxis\":{\"backgroundcolor\":\"#E5ECF6\",\"gridcolor\":\"white\",\"gridwidth\":2,\"linecolor\":\"white\",\"showbackground\":true,\"ticks\":\"\",\"zerolinecolor\":\"white\"},\"yaxis\":{\"backgroundcolor\":\"#E5ECF6\",\"gridcolor\":\"white\",\"gridwidth\":2,\"linecolor\":\"white\",\"showbackground\":true,\"ticks\":\"\",\"zerolinecolor\":\"white\"},\"zaxis\":{\"backgroundcolor\":\"#E5ECF6\",\"gridcolor\":\"white\",\"gridwidth\":2,\"linecolor\":\"white\",\"showbackground\":true,\"ticks\":\"\",\"zerolinecolor\":\"white\"}},\"shapedefaults\":{\"line\":{\"color\":\"#2a3f5f\"}},\"ternary\":{\"aaxis\":{\"gridcolor\":\"white\",\"linecolor\":\"white\",\"ticks\":\"\"},\"baxis\":{\"gridcolor\":\"white\",\"linecolor\":\"white\",\"ticks\":\"\"},\"bgcolor\":\"#E5ECF6\",\"caxis\":{\"gridcolor\":\"white\",\"linecolor\":\"white\",\"ticks\":\"\"}},\"title\":{\"x\":0.05},\"xaxis\":{\"automargin\":true,\"gridcolor\":\"white\",\"linecolor\":\"white\",\"ticks\":\"\",\"title\":{\"standoff\":15},\"zerolinecolor\":\"white\",\"zerolinewidth\":2},\"yaxis\":{\"automargin\":true,\"gridcolor\":\"white\",\"linecolor\":\"white\",\"ticks\":\"\",\"title\":{\"standoff\":15},\"zerolinecolor\":\"white\",\"zerolinewidth\":2}}},\"xaxis\":{\"anchor\":\"y\",\"domain\":[0.0,0.49],\"title\":{\"text\":\"HeartDisease\"}},\"yaxis\":{\"anchor\":\"x\",\"domain\":[0.0,1.0],\"title\":{\"text\":\"RestingBP\"}},\"xaxis2\":{\"anchor\":\"y2\",\"domain\":[0.51,1.0],\"matches\":\"x\",\"title\":{\"text\":\"HeartDisease\"}},\"yaxis2\":{\"anchor\":\"x2\",\"domain\":[0.0,1.0],\"matches\":\"y\",\"showticklabels\":false},\"annotations\":[{\"font\":{},\"showarrow\":false,\"text\":\"Sex=M\",\"x\":0.245,\"xanchor\":\"center\",\"xref\":\"paper\",\"y\":1.0,\"yanchor\":\"bottom\",\"yref\":\"paper\"},{\"font\":{},\"showarrow\":false,\"text\":\"Sex=F\",\"x\":0.755,\"xanchor\":\"center\",\"xref\":\"paper\",\"y\":1.0,\"yanchor\":\"bottom\",\"yref\":\"paper\"}],\"coloraxis\":{\"colorbar\":{\"title\":{\"text\":\"Age\"}},\"colorscale\":[[0.0,\"#0d0887\"],[0.1111111111111111,\"#46039f\"],[0.2222222222222222,\"#7201a8\"],[0.3333333333333333,\"#9c179e\"],[0.4444444444444444,\"#bd3786\"],[0.5555555555555556,\"#d8576b\"],[0.6666666666666666,\"#ed7953\"],[0.7777777777777778,\"#fb9f3a\"],[0.8888888888888888,\"#fdca26\"],[1.0,\"#f0f921\"]]},\"legend\":{\"tracegroupgap\":0},\"margin\":{\"t\":60},\"barmode\":\"group\"},                        {\"responsive\": true}                    ).then(function(){\n",
              "                            \n",
              "var gd = document.getElementById('94f75da2-b570-4195-83d8-f5a34fd7dc3c');\n",
              "var x = new MutationObserver(function (mutations, observer) {{\n",
              "        var display = window.getComputedStyle(gd).display;\n",
              "        if (!display || display === 'none') {{\n",
              "            console.log([gd, 'removed!']);\n",
              "            Plotly.purge(gd);\n",
              "            observer.disconnect();\n",
              "        }}\n",
              "}});\n",
              "\n",
              "// Listen for the removal of the full notebook cells\n",
              "var notebookContainer = gd.closest('#notebook-container');\n",
              "if (notebookContainer) {{\n",
              "    x.observe(notebookContainer, {childList: true});\n",
              "}}\n",
              "\n",
              "// Listen for the clearing of the current output cell\n",
              "var outputEl = gd.closest('.output');\n",
              "if (outputEl) {{\n",
              "    x.observe(outputEl, {childList: true});\n",
              "}}\n",
              "\n",
              "                        })                };                            </script>        </div>\n",
              "</body>\n",
              "</html>"
            ]
          },
          "metadata": {}
        }
      ]
    },
    {
      "cell_type": "code",
      "source": [
        "# Feature set \n",
        "# The target will not be included \n",
        "X = dataset.iloc[:, :-1]\n",
        "\n",
        "# The target will be the last column\n",
        "y = dataset.iloc[:, -1]"
      ],
      "metadata": {
        "id": "kRXPUArF4iyJ"
      },
      "execution_count": 7,
      "outputs": []
    },
    {
      "cell_type": "code",
      "source": [
        "# Encoding categorical features\n",
        "## I use the Label encoder because it's will not add more columns to the dataset and more simple to run\n",
        "\n",
        "le = LabelEncoder()\n",
        "cols = X.columns.tolist()\n",
        "for column in cols:\n",
        "    if X[column].dtype == 'object':\n",
        "        X[column] = le.fit_transform(X[column])"
      ],
      "metadata": {
        "id": "xUEU_fCN45O1"
      },
      "execution_count": 8,
      "outputs": []
    },
    {
      "cell_type": "code",
      "source": [
        "X.head()"
      ],
      "metadata": {
        "colab": {
          "base_uri": "https://localhost:8080/",
          "height": 206
        },
        "id": "ka8CR1XR5VUd",
        "outputId": "2e97880e-ca6a-48b7-b6c8-16c5de6d144b"
      },
      "execution_count": 9,
      "outputs": [
        {
          "output_type": "execute_result",
          "data": {
            "text/plain": [
              "   Age  Sex  ChestPainType  RestingBP  Cholesterol  FastingBS  RestingECG  \\\n",
              "0   40    1              1        140          289          0           1   \n",
              "1   49    0              2        160          180          0           1   \n",
              "2   37    1              1        130          283          0           2   \n",
              "3   48    0              0        138          214          0           1   \n",
              "4   54    1              2        150          195          0           1   \n",
              "\n",
              "   MaxHR  ExerciseAngina  Oldpeak  ST_Slope  \n",
              "0    172               0      0.0         2  \n",
              "1    156               0      1.0         1  \n",
              "2     98               0      0.0         2  \n",
              "3    108               1      1.5         1  \n",
              "4    122               0      0.0         2  "
            ],
            "text/html": [
              "\n",
              "  <div id=\"df-7626f614-d909-46c5-9814-62faefefe35d\">\n",
              "    <div class=\"colab-df-container\">\n",
              "      <div>\n",
              "<style scoped>\n",
              "    .dataframe tbody tr th:only-of-type {\n",
              "        vertical-align: middle;\n",
              "    }\n",
              "\n",
              "    .dataframe tbody tr th {\n",
              "        vertical-align: top;\n",
              "    }\n",
              "\n",
              "    .dataframe thead th {\n",
              "        text-align: right;\n",
              "    }\n",
              "</style>\n",
              "<table border=\"1\" class=\"dataframe\">\n",
              "  <thead>\n",
              "    <tr style=\"text-align: right;\">\n",
              "      <th></th>\n",
              "      <th>Age</th>\n",
              "      <th>Sex</th>\n",
              "      <th>ChestPainType</th>\n",
              "      <th>RestingBP</th>\n",
              "      <th>Cholesterol</th>\n",
              "      <th>FastingBS</th>\n",
              "      <th>RestingECG</th>\n",
              "      <th>MaxHR</th>\n",
              "      <th>ExerciseAngina</th>\n",
              "      <th>Oldpeak</th>\n",
              "      <th>ST_Slope</th>\n",
              "    </tr>\n",
              "  </thead>\n",
              "  <tbody>\n",
              "    <tr>\n",
              "      <th>0</th>\n",
              "      <td>40</td>\n",
              "      <td>1</td>\n",
              "      <td>1</td>\n",
              "      <td>140</td>\n",
              "      <td>289</td>\n",
              "      <td>0</td>\n",
              "      <td>1</td>\n",
              "      <td>172</td>\n",
              "      <td>0</td>\n",
              "      <td>0.0</td>\n",
              "      <td>2</td>\n",
              "    </tr>\n",
              "    <tr>\n",
              "      <th>1</th>\n",
              "      <td>49</td>\n",
              "      <td>0</td>\n",
              "      <td>2</td>\n",
              "      <td>160</td>\n",
              "      <td>180</td>\n",
              "      <td>0</td>\n",
              "      <td>1</td>\n",
              "      <td>156</td>\n",
              "      <td>0</td>\n",
              "      <td>1.0</td>\n",
              "      <td>1</td>\n",
              "    </tr>\n",
              "    <tr>\n",
              "      <th>2</th>\n",
              "      <td>37</td>\n",
              "      <td>1</td>\n",
              "      <td>1</td>\n",
              "      <td>130</td>\n",
              "      <td>283</td>\n",
              "      <td>0</td>\n",
              "      <td>2</td>\n",
              "      <td>98</td>\n",
              "      <td>0</td>\n",
              "      <td>0.0</td>\n",
              "      <td>2</td>\n",
              "    </tr>\n",
              "    <tr>\n",
              "      <th>3</th>\n",
              "      <td>48</td>\n",
              "      <td>0</td>\n",
              "      <td>0</td>\n",
              "      <td>138</td>\n",
              "      <td>214</td>\n",
              "      <td>0</td>\n",
              "      <td>1</td>\n",
              "      <td>108</td>\n",
              "      <td>1</td>\n",
              "      <td>1.5</td>\n",
              "      <td>1</td>\n",
              "    </tr>\n",
              "    <tr>\n",
              "      <th>4</th>\n",
              "      <td>54</td>\n",
              "      <td>1</td>\n",
              "      <td>2</td>\n",
              "      <td>150</td>\n",
              "      <td>195</td>\n",
              "      <td>0</td>\n",
              "      <td>1</td>\n",
              "      <td>122</td>\n",
              "      <td>0</td>\n",
              "      <td>0.0</td>\n",
              "      <td>2</td>\n",
              "    </tr>\n",
              "  </tbody>\n",
              "</table>\n",
              "</div>\n",
              "      <button class=\"colab-df-convert\" onclick=\"convertToInteractive('df-7626f614-d909-46c5-9814-62faefefe35d')\"\n",
              "              title=\"Convert this dataframe to an interactive table.\"\n",
              "              style=\"display:none;\">\n",
              "        \n",
              "  <svg xmlns=\"http://www.w3.org/2000/svg\" height=\"24px\"viewBox=\"0 0 24 24\"\n",
              "       width=\"24px\">\n",
              "    <path d=\"M0 0h24v24H0V0z\" fill=\"none\"/>\n",
              "    <path d=\"M18.56 5.44l.94 2.06.94-2.06 2.06-.94-2.06-.94-.94-2.06-.94 2.06-2.06.94zm-11 1L8.5 8.5l.94-2.06 2.06-.94-2.06-.94L8.5 2.5l-.94 2.06-2.06.94zm10 10l.94 2.06.94-2.06 2.06-.94-2.06-.94-.94-2.06-.94 2.06-2.06.94z\"/><path d=\"M17.41 7.96l-1.37-1.37c-.4-.4-.92-.59-1.43-.59-.52 0-1.04.2-1.43.59L10.3 9.45l-7.72 7.72c-.78.78-.78 2.05 0 2.83L4 21.41c.39.39.9.59 1.41.59.51 0 1.02-.2 1.41-.59l7.78-7.78 2.81-2.81c.8-.78.8-2.07 0-2.86zM5.41 20L4 18.59l7.72-7.72 1.47 1.35L5.41 20z\"/>\n",
              "  </svg>\n",
              "      </button>\n",
              "      \n",
              "  <style>\n",
              "    .colab-df-container {\n",
              "      display:flex;\n",
              "      flex-wrap:wrap;\n",
              "      gap: 12px;\n",
              "    }\n",
              "\n",
              "    .colab-df-convert {\n",
              "      background-color: #E8F0FE;\n",
              "      border: none;\n",
              "      border-radius: 50%;\n",
              "      cursor: pointer;\n",
              "      display: none;\n",
              "      fill: #1967D2;\n",
              "      height: 32px;\n",
              "      padding: 0 0 0 0;\n",
              "      width: 32px;\n",
              "    }\n",
              "\n",
              "    .colab-df-convert:hover {\n",
              "      background-color: #E2EBFA;\n",
              "      box-shadow: 0px 1px 2px rgba(60, 64, 67, 0.3), 0px 1px 3px 1px rgba(60, 64, 67, 0.15);\n",
              "      fill: #174EA6;\n",
              "    }\n",
              "\n",
              "    [theme=dark] .colab-df-convert {\n",
              "      background-color: #3B4455;\n",
              "      fill: #D2E3FC;\n",
              "    }\n",
              "\n",
              "    [theme=dark] .colab-df-convert:hover {\n",
              "      background-color: #434B5C;\n",
              "      box-shadow: 0px 1px 3px 1px rgba(0, 0, 0, 0.15);\n",
              "      filter: drop-shadow(0px 1px 2px rgba(0, 0, 0, 0.3));\n",
              "      fill: #FFFFFF;\n",
              "    }\n",
              "  </style>\n",
              "\n",
              "      <script>\n",
              "        const buttonEl =\n",
              "          document.querySelector('#df-7626f614-d909-46c5-9814-62faefefe35d button.colab-df-convert');\n",
              "        buttonEl.style.display =\n",
              "          google.colab.kernel.accessAllowed ? 'block' : 'none';\n",
              "\n",
              "        async function convertToInteractive(key) {\n",
              "          const element = document.querySelector('#df-7626f614-d909-46c5-9814-62faefefe35d');\n",
              "          const dataTable =\n",
              "            await google.colab.kernel.invokeFunction('convertToInteractive',\n",
              "                                                     [key], {});\n",
              "          if (!dataTable) return;\n",
              "\n",
              "          const docLinkHtml = 'Like what you see? Visit the ' +\n",
              "            '<a target=\"_blank\" href=https://colab.research.google.com/notebooks/data_table.ipynb>data table notebook</a>'\n",
              "            + ' to learn more about interactive tables.';\n",
              "          element.innerHTML = '';\n",
              "          dataTable['output_type'] = 'display_data';\n",
              "          await google.colab.output.renderOutput(dataTable, element);\n",
              "          const docLink = document.createElement('div');\n",
              "          docLink.innerHTML = docLinkHtml;\n",
              "          element.appendChild(docLink);\n",
              "        }\n",
              "      </script>\n",
              "    </div>\n",
              "  </div>\n",
              "  "
            ]
          },
          "metadata": {},
          "execution_count": 9
        }
      ]
    },
    {
      "cell_type": "code",
      "source": [
        "pd.DataFrame(X)"
      ],
      "metadata": {
        "colab": {
          "base_uri": "https://localhost:8080/",
          "height": 424
        },
        "id": "OejJq0XB6K5l",
        "outputId": "bcb8de53-f343-421c-af6a-6da9da54210f"
      },
      "execution_count": 10,
      "outputs": [
        {
          "output_type": "execute_result",
          "data": {
            "text/plain": [
              "     Age  Sex  ChestPainType  RestingBP  Cholesterol  FastingBS  RestingECG  \\\n",
              "0     40    1              1        140          289          0           1   \n",
              "1     49    0              2        160          180          0           1   \n",
              "2     37    1              1        130          283          0           2   \n",
              "3     48    0              0        138          214          0           1   \n",
              "4     54    1              2        150          195          0           1   \n",
              "..   ...  ...            ...        ...          ...        ...         ...   \n",
              "913   45    1              3        110          264          0           1   \n",
              "914   68    1              0        144          193          1           1   \n",
              "915   57    1              0        130          131          0           1   \n",
              "916   57    0              1        130          236          0           0   \n",
              "917   38    1              2        138          175          0           1   \n",
              "\n",
              "     MaxHR  ExerciseAngina  Oldpeak  ST_Slope  \n",
              "0      172               0      0.0         2  \n",
              "1      156               0      1.0         1  \n",
              "2       98               0      0.0         2  \n",
              "3      108               1      1.5         1  \n",
              "4      122               0      0.0         2  \n",
              "..     ...             ...      ...       ...  \n",
              "913    132               0      1.2         1  \n",
              "914    141               0      3.4         1  \n",
              "915    115               1      1.2         1  \n",
              "916    174               0      0.0         1  \n",
              "917    173               0      0.0         2  \n",
              "\n",
              "[918 rows x 11 columns]"
            ],
            "text/html": [
              "\n",
              "  <div id=\"df-13e52311-2956-420b-bc90-67b2f720c915\">\n",
              "    <div class=\"colab-df-container\">\n",
              "      <div>\n",
              "<style scoped>\n",
              "    .dataframe tbody tr th:only-of-type {\n",
              "        vertical-align: middle;\n",
              "    }\n",
              "\n",
              "    .dataframe tbody tr th {\n",
              "        vertical-align: top;\n",
              "    }\n",
              "\n",
              "    .dataframe thead th {\n",
              "        text-align: right;\n",
              "    }\n",
              "</style>\n",
              "<table border=\"1\" class=\"dataframe\">\n",
              "  <thead>\n",
              "    <tr style=\"text-align: right;\">\n",
              "      <th></th>\n",
              "      <th>Age</th>\n",
              "      <th>Sex</th>\n",
              "      <th>ChestPainType</th>\n",
              "      <th>RestingBP</th>\n",
              "      <th>Cholesterol</th>\n",
              "      <th>FastingBS</th>\n",
              "      <th>RestingECG</th>\n",
              "      <th>MaxHR</th>\n",
              "      <th>ExerciseAngina</th>\n",
              "      <th>Oldpeak</th>\n",
              "      <th>ST_Slope</th>\n",
              "    </tr>\n",
              "  </thead>\n",
              "  <tbody>\n",
              "    <tr>\n",
              "      <th>0</th>\n",
              "      <td>40</td>\n",
              "      <td>1</td>\n",
              "      <td>1</td>\n",
              "      <td>140</td>\n",
              "      <td>289</td>\n",
              "      <td>0</td>\n",
              "      <td>1</td>\n",
              "      <td>172</td>\n",
              "      <td>0</td>\n",
              "      <td>0.0</td>\n",
              "      <td>2</td>\n",
              "    </tr>\n",
              "    <tr>\n",
              "      <th>1</th>\n",
              "      <td>49</td>\n",
              "      <td>0</td>\n",
              "      <td>2</td>\n",
              "      <td>160</td>\n",
              "      <td>180</td>\n",
              "      <td>0</td>\n",
              "      <td>1</td>\n",
              "      <td>156</td>\n",
              "      <td>0</td>\n",
              "      <td>1.0</td>\n",
              "      <td>1</td>\n",
              "    </tr>\n",
              "    <tr>\n",
              "      <th>2</th>\n",
              "      <td>37</td>\n",
              "      <td>1</td>\n",
              "      <td>1</td>\n",
              "      <td>130</td>\n",
              "      <td>283</td>\n",
              "      <td>0</td>\n",
              "      <td>2</td>\n",
              "      <td>98</td>\n",
              "      <td>0</td>\n",
              "      <td>0.0</td>\n",
              "      <td>2</td>\n",
              "    </tr>\n",
              "    <tr>\n",
              "      <th>3</th>\n",
              "      <td>48</td>\n",
              "      <td>0</td>\n",
              "      <td>0</td>\n",
              "      <td>138</td>\n",
              "      <td>214</td>\n",
              "      <td>0</td>\n",
              "      <td>1</td>\n",
              "      <td>108</td>\n",
              "      <td>1</td>\n",
              "      <td>1.5</td>\n",
              "      <td>1</td>\n",
              "    </tr>\n",
              "    <tr>\n",
              "      <th>4</th>\n",
              "      <td>54</td>\n",
              "      <td>1</td>\n",
              "      <td>2</td>\n",
              "      <td>150</td>\n",
              "      <td>195</td>\n",
              "      <td>0</td>\n",
              "      <td>1</td>\n",
              "      <td>122</td>\n",
              "      <td>0</td>\n",
              "      <td>0.0</td>\n",
              "      <td>2</td>\n",
              "    </tr>\n",
              "    <tr>\n",
              "      <th>...</th>\n",
              "      <td>...</td>\n",
              "      <td>...</td>\n",
              "      <td>...</td>\n",
              "      <td>...</td>\n",
              "      <td>...</td>\n",
              "      <td>...</td>\n",
              "      <td>...</td>\n",
              "      <td>...</td>\n",
              "      <td>...</td>\n",
              "      <td>...</td>\n",
              "      <td>...</td>\n",
              "    </tr>\n",
              "    <tr>\n",
              "      <th>913</th>\n",
              "      <td>45</td>\n",
              "      <td>1</td>\n",
              "      <td>3</td>\n",
              "      <td>110</td>\n",
              "      <td>264</td>\n",
              "      <td>0</td>\n",
              "      <td>1</td>\n",
              "      <td>132</td>\n",
              "      <td>0</td>\n",
              "      <td>1.2</td>\n",
              "      <td>1</td>\n",
              "    </tr>\n",
              "    <tr>\n",
              "      <th>914</th>\n",
              "      <td>68</td>\n",
              "      <td>1</td>\n",
              "      <td>0</td>\n",
              "      <td>144</td>\n",
              "      <td>193</td>\n",
              "      <td>1</td>\n",
              "      <td>1</td>\n",
              "      <td>141</td>\n",
              "      <td>0</td>\n",
              "      <td>3.4</td>\n",
              "      <td>1</td>\n",
              "    </tr>\n",
              "    <tr>\n",
              "      <th>915</th>\n",
              "      <td>57</td>\n",
              "      <td>1</td>\n",
              "      <td>0</td>\n",
              "      <td>130</td>\n",
              "      <td>131</td>\n",
              "      <td>0</td>\n",
              "      <td>1</td>\n",
              "      <td>115</td>\n",
              "      <td>1</td>\n",
              "      <td>1.2</td>\n",
              "      <td>1</td>\n",
              "    </tr>\n",
              "    <tr>\n",
              "      <th>916</th>\n",
              "      <td>57</td>\n",
              "      <td>0</td>\n",
              "      <td>1</td>\n",
              "      <td>130</td>\n",
              "      <td>236</td>\n",
              "      <td>0</td>\n",
              "      <td>0</td>\n",
              "      <td>174</td>\n",
              "      <td>0</td>\n",
              "      <td>0.0</td>\n",
              "      <td>1</td>\n",
              "    </tr>\n",
              "    <tr>\n",
              "      <th>917</th>\n",
              "      <td>38</td>\n",
              "      <td>1</td>\n",
              "      <td>2</td>\n",
              "      <td>138</td>\n",
              "      <td>175</td>\n",
              "      <td>0</td>\n",
              "      <td>1</td>\n",
              "      <td>173</td>\n",
              "      <td>0</td>\n",
              "      <td>0.0</td>\n",
              "      <td>2</td>\n",
              "    </tr>\n",
              "  </tbody>\n",
              "</table>\n",
              "<p>918 rows × 11 columns</p>\n",
              "</div>\n",
              "      <button class=\"colab-df-convert\" onclick=\"convertToInteractive('df-13e52311-2956-420b-bc90-67b2f720c915')\"\n",
              "              title=\"Convert this dataframe to an interactive table.\"\n",
              "              style=\"display:none;\">\n",
              "        \n",
              "  <svg xmlns=\"http://www.w3.org/2000/svg\" height=\"24px\"viewBox=\"0 0 24 24\"\n",
              "       width=\"24px\">\n",
              "    <path d=\"M0 0h24v24H0V0z\" fill=\"none\"/>\n",
              "    <path d=\"M18.56 5.44l.94 2.06.94-2.06 2.06-.94-2.06-.94-.94-2.06-.94 2.06-2.06.94zm-11 1L8.5 8.5l.94-2.06 2.06-.94-2.06-.94L8.5 2.5l-.94 2.06-2.06.94zm10 10l.94 2.06.94-2.06 2.06-.94-2.06-.94-.94-2.06-.94 2.06-2.06.94z\"/><path d=\"M17.41 7.96l-1.37-1.37c-.4-.4-.92-.59-1.43-.59-.52 0-1.04.2-1.43.59L10.3 9.45l-7.72 7.72c-.78.78-.78 2.05 0 2.83L4 21.41c.39.39.9.59 1.41.59.51 0 1.02-.2 1.41-.59l7.78-7.78 2.81-2.81c.8-.78.8-2.07 0-2.86zM5.41 20L4 18.59l7.72-7.72 1.47 1.35L5.41 20z\"/>\n",
              "  </svg>\n",
              "      </button>\n",
              "      \n",
              "  <style>\n",
              "    .colab-df-container {\n",
              "      display:flex;\n",
              "      flex-wrap:wrap;\n",
              "      gap: 12px;\n",
              "    }\n",
              "\n",
              "    .colab-df-convert {\n",
              "      background-color: #E8F0FE;\n",
              "      border: none;\n",
              "      border-radius: 50%;\n",
              "      cursor: pointer;\n",
              "      display: none;\n",
              "      fill: #1967D2;\n",
              "      height: 32px;\n",
              "      padding: 0 0 0 0;\n",
              "      width: 32px;\n",
              "    }\n",
              "\n",
              "    .colab-df-convert:hover {\n",
              "      background-color: #E2EBFA;\n",
              "      box-shadow: 0px 1px 2px rgba(60, 64, 67, 0.3), 0px 1px 3px 1px rgba(60, 64, 67, 0.15);\n",
              "      fill: #174EA6;\n",
              "    }\n",
              "\n",
              "    [theme=dark] .colab-df-convert {\n",
              "      background-color: #3B4455;\n",
              "      fill: #D2E3FC;\n",
              "    }\n",
              "\n",
              "    [theme=dark] .colab-df-convert:hover {\n",
              "      background-color: #434B5C;\n",
              "      box-shadow: 0px 1px 3px 1px rgba(0, 0, 0, 0.15);\n",
              "      filter: drop-shadow(0px 1px 2px rgba(0, 0, 0, 0.3));\n",
              "      fill: #FFFFFF;\n",
              "    }\n",
              "  </style>\n",
              "\n",
              "      <script>\n",
              "        const buttonEl =\n",
              "          document.querySelector('#df-13e52311-2956-420b-bc90-67b2f720c915 button.colab-df-convert');\n",
              "        buttonEl.style.display =\n",
              "          google.colab.kernel.accessAllowed ? 'block' : 'none';\n",
              "\n",
              "        async function convertToInteractive(key) {\n",
              "          const element = document.querySelector('#df-13e52311-2956-420b-bc90-67b2f720c915');\n",
              "          const dataTable =\n",
              "            await google.colab.kernel.invokeFunction('convertToInteractive',\n",
              "                                                     [key], {});\n",
              "          if (!dataTable) return;\n",
              "\n",
              "          const docLinkHtml = 'Like what you see? Visit the ' +\n",
              "            '<a target=\"_blank\" href=https://colab.research.google.com/notebooks/data_table.ipynb>data table notebook</a>'\n",
              "            + ' to learn more about interactive tables.';\n",
              "          element.innerHTML = '';\n",
              "          dataTable['output_type'] = 'display_data';\n",
              "          await google.colab.output.renderOutput(dataTable, element);\n",
              "          const docLink = document.createElement('div');\n",
              "          docLink.innerHTML = docLinkHtml;\n",
              "          element.appendChild(docLink);\n",
              "        }\n",
              "      </script>\n",
              "    </div>\n",
              "  </div>\n",
              "  "
            ]
          },
          "metadata": {},
          "execution_count": 10
        }
      ]
    },
    {
      "cell_type": "markdown",
      "source": [
        "### Splitting the dataset into the Training set and Test set"
      ],
      "metadata": {
        "id": "af_OzwCX6O7g"
      }
    },
    {
      "cell_type": "code",
      "source": [
        "X_train, X_test, y_train, y_test = train_test_split(X, y, test_size = 0.2, random_state = 0)"
      ],
      "metadata": {
        "id": "yW_bZOyD6Pzw"
      },
      "execution_count": 59,
      "outputs": []
    },
    {
      "cell_type": "markdown",
      "source": [
        "### Feature Scaling"
      ],
      "metadata": {
        "id": "lZc3kcFJ6oX7"
      }
    },
    {
      "cell_type": "code",
      "source": [
        "sc = StandardScaler()\n",
        "X_train = sc.fit_transform(X_train)\n",
        "X_test = sc.transform(X_test)"
      ],
      "metadata": {
        "id": "fOb_cnht6oH0"
      },
      "execution_count": 60,
      "outputs": []
    },
    {
      "cell_type": "markdown",
      "source": [
        "### Initializing the ANN"
      ],
      "metadata": {
        "id": "TSEzw5yX6svc"
      }
    },
    {
      "cell_type": "code",
      "source": [
        "ann = tf.keras.models.Sequential()"
      ],
      "metadata": {
        "id": "46VCkAS66wAk"
      },
      "execution_count": 13,
      "outputs": []
    },
    {
      "cell_type": "markdown",
      "source": [
        "### Adding the input layer and the first hidden layer"
      ],
      "metadata": {
        "id": "4nkxzAjz6zoM"
      }
    },
    {
      "cell_type": "code",
      "source": [
        "ann.add(tf.keras.layers.Dense(units=6, activation='relu'))"
      ],
      "metadata": {
        "id": "D_9kXOB861FU"
      },
      "execution_count": 14,
      "outputs": []
    },
    {
      "cell_type": "markdown",
      "source": [
        "### Adding the second hidden layer"
      ],
      "metadata": {
        "id": "rVhSE1RJ7BnD"
      }
    },
    {
      "cell_type": "code",
      "source": [
        "ann.add(tf.keras.layers.Dense(units=6, activation='relu'))"
      ],
      "metadata": {
        "id": "k412kt1b649R"
      },
      "execution_count": 15,
      "outputs": []
    },
    {
      "cell_type": "markdown",
      "source": [
        "### Adding the output layer"
      ],
      "metadata": {
        "id": "t8NrQ3ui7IC2"
      }
    },
    {
      "cell_type": "code",
      "source": [
        "ann.add(tf.keras.layers.Dense(units=1, activation='sigmoid'))"
      ],
      "metadata": {
        "id": "7hNzmryr7LkN"
      },
      "execution_count": 16,
      "outputs": []
    },
    {
      "cell_type": "markdown",
      "source": [
        "### Compiling the ANN"
      ],
      "metadata": {
        "id": "-GSdcSc87PbY"
      }
    },
    {
      "cell_type": "code",
      "source": [
        "ann.compile(optimizer = 'adam', loss = 'binary_crossentropy', metrics = ['accuracy'])"
      ],
      "metadata": {
        "id": "jnMcwsLe7Rbc"
      },
      "execution_count": 17,
      "outputs": []
    },
    {
      "cell_type": "markdown",
      "source": [
        "### Training the ANN on the Training set"
      ],
      "metadata": {
        "id": "GLvpquuJ7X2b"
      }
    },
    {
      "cell_type": "code",
      "source": [
        "history = ann.fit(X_train, y_train.values, batch_size = 32, epochs = 100)"
      ],
      "metadata": {
        "colab": {
          "base_uri": "https://localhost:8080/"
        },
        "id": "4XXfg3Ak7TyM",
        "outputId": "4e7209e7-3b70-485f-a02b-9d63e73aa2dc"
      },
      "execution_count": 18,
      "outputs": [
        {
          "output_type": "stream",
          "name": "stdout",
          "text": [
            "Epoch 1/100\n",
            "23/23 [==============================] - 1s 4ms/step - loss: 0.7370 - accuracy: 0.4918\n",
            "Epoch 2/100\n",
            "23/23 [==============================] - 0s 5ms/step - loss: 0.6869 - accuracy: 0.5177\n",
            "Epoch 3/100\n",
            "23/23 [==============================] - 0s 5ms/step - loss: 0.6454 - accuracy: 0.6213\n",
            "Epoch 4/100\n",
            "23/23 [==============================] - 0s 6ms/step - loss: 0.6065 - accuracy: 0.7289\n",
            "Epoch 5/100\n",
            "23/23 [==============================] - 0s 4ms/step - loss: 0.5686 - accuracy: 0.7738\n",
            "Epoch 6/100\n",
            "23/23 [==============================] - 0s 8ms/step - loss: 0.5323 - accuracy: 0.7970\n",
            "Epoch 7/100\n",
            "23/23 [==============================] - 0s 4ms/step - loss: 0.4996 - accuracy: 0.8106\n",
            "Epoch 8/100\n",
            "23/23 [==============================] - 0s 5ms/step - loss: 0.4693 - accuracy: 0.8243\n",
            "Epoch 9/100\n",
            "23/23 [==============================] - 0s 6ms/step - loss: 0.4440 - accuracy: 0.8324\n",
            "Epoch 10/100\n",
            "23/23 [==============================] - 0s 4ms/step - loss: 0.4227 - accuracy: 0.8392\n",
            "Epoch 11/100\n",
            "23/23 [==============================] - 0s 6ms/step - loss: 0.4056 - accuracy: 0.8379\n",
            "Epoch 12/100\n",
            "23/23 [==============================] - 0s 5ms/step - loss: 0.3923 - accuracy: 0.8433\n",
            "Epoch 13/100\n",
            "23/23 [==============================] - 0s 6ms/step - loss: 0.3824 - accuracy: 0.8488\n",
            "Epoch 14/100\n",
            "23/23 [==============================] - 0s 5ms/step - loss: 0.3744 - accuracy: 0.8460\n",
            "Epoch 15/100\n",
            "23/23 [==============================] - 0s 10ms/step - loss: 0.3685 - accuracy: 0.8488\n",
            "Epoch 16/100\n",
            "23/23 [==============================] - 0s 5ms/step - loss: 0.3637 - accuracy: 0.8515\n",
            "Epoch 17/100\n",
            "23/23 [==============================] - 0s 4ms/step - loss: 0.3597 - accuracy: 0.8501\n",
            "Epoch 18/100\n",
            "23/23 [==============================] - 0s 6ms/step - loss: 0.3563 - accuracy: 0.8501\n",
            "Epoch 19/100\n",
            "23/23 [==============================] - 0s 6ms/step - loss: 0.3535 - accuracy: 0.8501\n",
            "Epoch 20/100\n",
            "23/23 [==============================] - 0s 5ms/step - loss: 0.3503 - accuracy: 0.8501\n",
            "Epoch 21/100\n",
            "23/23 [==============================] - 0s 3ms/step - loss: 0.3482 - accuracy: 0.8515\n",
            "Epoch 22/100\n",
            "23/23 [==============================] - 0s 5ms/step - loss: 0.3457 - accuracy: 0.8529\n",
            "Epoch 23/100\n",
            "23/23 [==============================] - 0s 8ms/step - loss: 0.3433 - accuracy: 0.8542\n",
            "Epoch 24/100\n",
            "23/23 [==============================] - 0s 6ms/step - loss: 0.3411 - accuracy: 0.8556\n",
            "Epoch 25/100\n",
            "23/23 [==============================] - 0s 4ms/step - loss: 0.3392 - accuracy: 0.8569\n",
            "Epoch 26/100\n",
            "23/23 [==============================] - 0s 4ms/step - loss: 0.3374 - accuracy: 0.8569\n",
            "Epoch 27/100\n",
            "23/23 [==============================] - 0s 4ms/step - loss: 0.3353 - accuracy: 0.8597\n",
            "Epoch 28/100\n",
            "23/23 [==============================] - 0s 4ms/step - loss: 0.3333 - accuracy: 0.8624\n",
            "Epoch 29/100\n",
            "23/23 [==============================] - 0s 4ms/step - loss: 0.3317 - accuracy: 0.8638\n",
            "Epoch 30/100\n",
            "23/23 [==============================] - 0s 4ms/step - loss: 0.3301 - accuracy: 0.8651\n",
            "Epoch 31/100\n",
            "23/23 [==============================] - 0s 4ms/step - loss: 0.3286 - accuracy: 0.8678\n",
            "Epoch 32/100\n",
            "23/23 [==============================] - 0s 4ms/step - loss: 0.3270 - accuracy: 0.8706\n",
            "Epoch 33/100\n",
            "23/23 [==============================] - 0s 5ms/step - loss: 0.3252 - accuracy: 0.8706\n",
            "Epoch 34/100\n",
            "23/23 [==============================] - 0s 8ms/step - loss: 0.3238 - accuracy: 0.8706\n",
            "Epoch 35/100\n",
            "23/23 [==============================] - 0s 3ms/step - loss: 0.3222 - accuracy: 0.8692\n",
            "Epoch 36/100\n",
            "23/23 [==============================] - 0s 4ms/step - loss: 0.3205 - accuracy: 0.8719\n",
            "Epoch 37/100\n",
            "23/23 [==============================] - 0s 4ms/step - loss: 0.3192 - accuracy: 0.8747\n",
            "Epoch 38/100\n",
            "23/23 [==============================] - 0s 7ms/step - loss: 0.3177 - accuracy: 0.8733\n",
            "Epoch 39/100\n",
            "23/23 [==============================] - 0s 9ms/step - loss: 0.3166 - accuracy: 0.8733\n",
            "Epoch 40/100\n",
            "23/23 [==============================] - 0s 6ms/step - loss: 0.3151 - accuracy: 0.8706\n",
            "Epoch 41/100\n",
            "23/23 [==============================] - 0s 4ms/step - loss: 0.3139 - accuracy: 0.8706\n",
            "Epoch 42/100\n",
            "23/23 [==============================] - 0s 10ms/step - loss: 0.3129 - accuracy: 0.8692\n",
            "Epoch 43/100\n",
            "23/23 [==============================] - 0s 5ms/step - loss: 0.3117 - accuracy: 0.8719\n",
            "Epoch 44/100\n",
            "23/23 [==============================] - 0s 4ms/step - loss: 0.3109 - accuracy: 0.8719\n",
            "Epoch 45/100\n",
            "23/23 [==============================] - 0s 5ms/step - loss: 0.3093 - accuracy: 0.8733\n",
            "Epoch 46/100\n",
            "23/23 [==============================] - 0s 4ms/step - loss: 0.3085 - accuracy: 0.8719\n",
            "Epoch 47/100\n",
            "23/23 [==============================] - 0s 4ms/step - loss: 0.3074 - accuracy: 0.8747\n",
            "Epoch 48/100\n",
            "23/23 [==============================] - 0s 5ms/step - loss: 0.3062 - accuracy: 0.8760\n",
            "Epoch 49/100\n",
            "23/23 [==============================] - 0s 4ms/step - loss: 0.3051 - accuracy: 0.8774\n",
            "Epoch 50/100\n",
            "23/23 [==============================] - 0s 6ms/step - loss: 0.3043 - accuracy: 0.8774\n",
            "Epoch 51/100\n",
            "23/23 [==============================] - 0s 4ms/step - loss: 0.3039 - accuracy: 0.8774\n",
            "Epoch 52/100\n",
            "23/23 [==============================] - 0s 4ms/step - loss: 0.3022 - accuracy: 0.8801\n",
            "Epoch 53/100\n",
            "23/23 [==============================] - 0s 5ms/step - loss: 0.3012 - accuracy: 0.8801\n",
            "Epoch 54/100\n",
            "23/23 [==============================] - 0s 4ms/step - loss: 0.3000 - accuracy: 0.8801\n",
            "Epoch 55/100\n",
            "23/23 [==============================] - 0s 4ms/step - loss: 0.2996 - accuracy: 0.8801\n",
            "Epoch 56/100\n",
            "23/23 [==============================] - 0s 5ms/step - loss: 0.2983 - accuracy: 0.8801\n",
            "Epoch 57/100\n",
            "23/23 [==============================] - 0s 4ms/step - loss: 0.2976 - accuracy: 0.8815\n",
            "Epoch 58/100\n",
            "23/23 [==============================] - 0s 5ms/step - loss: 0.2966 - accuracy: 0.8842\n",
            "Epoch 59/100\n",
            "23/23 [==============================] - 0s 4ms/step - loss: 0.2959 - accuracy: 0.8856\n",
            "Epoch 60/100\n",
            "23/23 [==============================] - 0s 3ms/step - loss: 0.2948 - accuracy: 0.8869\n",
            "Epoch 61/100\n",
            "23/23 [==============================] - 0s 7ms/step - loss: 0.2943 - accuracy: 0.8910\n",
            "Epoch 62/100\n",
            "23/23 [==============================] - 0s 4ms/step - loss: 0.2931 - accuracy: 0.8896\n",
            "Epoch 63/100\n",
            "23/23 [==============================] - 0s 8ms/step - loss: 0.2924 - accuracy: 0.8910\n",
            "Epoch 64/100\n",
            "23/23 [==============================] - 0s 5ms/step - loss: 0.2917 - accuracy: 0.8910\n",
            "Epoch 65/100\n",
            "23/23 [==============================] - 0s 5ms/step - loss: 0.2908 - accuracy: 0.8924\n",
            "Epoch 66/100\n",
            "23/23 [==============================] - 0s 6ms/step - loss: 0.2900 - accuracy: 0.8937\n",
            "Epoch 67/100\n",
            "23/23 [==============================] - 0s 4ms/step - loss: 0.2895 - accuracy: 0.8937\n",
            "Epoch 68/100\n",
            "23/23 [==============================] - 0s 9ms/step - loss: 0.2881 - accuracy: 0.8951\n",
            "Epoch 69/100\n",
            "23/23 [==============================] - 0s 9ms/step - loss: 0.2874 - accuracy: 0.8937\n",
            "Epoch 70/100\n",
            "23/23 [==============================] - 0s 6ms/step - loss: 0.2871 - accuracy: 0.8924\n",
            "Epoch 71/100\n",
            "23/23 [==============================] - 0s 4ms/step - loss: 0.2859 - accuracy: 0.8965\n",
            "Epoch 72/100\n",
            "23/23 [==============================] - 0s 5ms/step - loss: 0.2852 - accuracy: 0.8978\n",
            "Epoch 73/100\n",
            "23/23 [==============================] - 0s 4ms/step - loss: 0.2842 - accuracy: 0.8992\n",
            "Epoch 74/100\n",
            "23/23 [==============================] - 0s 5ms/step - loss: 0.2835 - accuracy: 0.8992\n",
            "Epoch 75/100\n",
            "23/23 [==============================] - 0s 4ms/step - loss: 0.2831 - accuracy: 0.8978\n",
            "Epoch 76/100\n",
            "23/23 [==============================] - 0s 5ms/step - loss: 0.2821 - accuracy: 0.8992\n",
            "Epoch 77/100\n",
            "23/23 [==============================] - 0s 4ms/step - loss: 0.2815 - accuracy: 0.8992\n",
            "Epoch 78/100\n",
            "23/23 [==============================] - 0s 4ms/step - loss: 0.2807 - accuracy: 0.8992\n",
            "Epoch 79/100\n",
            "23/23 [==============================] - 0s 3ms/step - loss: 0.2803 - accuracy: 0.8992\n",
            "Epoch 80/100\n",
            "23/23 [==============================] - 0s 4ms/step - loss: 0.2794 - accuracy: 0.8992\n",
            "Epoch 81/100\n",
            "23/23 [==============================] - 0s 4ms/step - loss: 0.2789 - accuracy: 0.8992\n",
            "Epoch 82/100\n",
            "23/23 [==============================] - 0s 4ms/step - loss: 0.2786 - accuracy: 0.8978\n",
            "Epoch 83/100\n",
            "23/23 [==============================] - 0s 4ms/step - loss: 0.2776 - accuracy: 0.9005\n",
            "Epoch 84/100\n",
            "23/23 [==============================] - 0s 4ms/step - loss: 0.2769 - accuracy: 0.9005\n",
            "Epoch 85/100\n",
            "23/23 [==============================] - 0s 4ms/step - loss: 0.2762 - accuracy: 0.9005\n",
            "Epoch 86/100\n",
            "23/23 [==============================] - 0s 4ms/step - loss: 0.2757 - accuracy: 0.9005\n",
            "Epoch 87/100\n",
            "23/23 [==============================] - 0s 4ms/step - loss: 0.2750 - accuracy: 0.8978\n",
            "Epoch 88/100\n",
            "23/23 [==============================] - 0s 5ms/step - loss: 0.2745 - accuracy: 0.8978\n",
            "Epoch 89/100\n",
            "23/23 [==============================] - 0s 7ms/step - loss: 0.2742 - accuracy: 0.9019\n",
            "Epoch 90/100\n",
            "23/23 [==============================] - 0s 8ms/step - loss: 0.2738 - accuracy: 0.9005\n",
            "Epoch 91/100\n",
            "23/23 [==============================] - 0s 5ms/step - loss: 0.2730 - accuracy: 0.9019\n",
            "Epoch 92/100\n",
            "23/23 [==============================] - 0s 4ms/step - loss: 0.2724 - accuracy: 0.9033\n",
            "Epoch 93/100\n",
            "23/23 [==============================] - 0s 4ms/step - loss: 0.2720 - accuracy: 0.9033\n",
            "Epoch 94/100\n",
            "23/23 [==============================] - 0s 4ms/step - loss: 0.2714 - accuracy: 0.9046\n",
            "Epoch 95/100\n",
            "23/23 [==============================] - 0s 6ms/step - loss: 0.2708 - accuracy: 0.9033\n",
            "Epoch 96/100\n",
            "23/23 [==============================] - 0s 5ms/step - loss: 0.2704 - accuracy: 0.9046\n",
            "Epoch 97/100\n",
            "23/23 [==============================] - 0s 4ms/step - loss: 0.2703 - accuracy: 0.9046\n",
            "Epoch 98/100\n",
            "23/23 [==============================] - 0s 4ms/step - loss: 0.2695 - accuracy: 0.9060\n",
            "Epoch 99/100\n",
            "23/23 [==============================] - 0s 5ms/step - loss: 0.2688 - accuracy: 0.9074\n",
            "Epoch 100/100\n",
            "23/23 [==============================] - 0s 3ms/step - loss: 0.2690 - accuracy: 0.9074\n"
          ]
        }
      ]
    },
    {
      "cell_type": "code",
      "source": [
        "# list all data in history\n",
        "print(history.history.keys())"
      ],
      "metadata": {
        "colab": {
          "base_uri": "https://localhost:8080/"
        },
        "id": "DahBEiCPGQjd",
        "outputId": "80c09976-d3ed-4ca1-d26c-8eea452bc0e1"
      },
      "execution_count": 19,
      "outputs": [
        {
          "output_type": "stream",
          "name": "stdout",
          "text": [
            "dict_keys(['loss', 'accuracy'])\n"
          ]
        }
      ]
    },
    {
      "cell_type": "markdown",
      "source": [
        "### Plot your model’s training history."
      ],
      "metadata": {
        "id": "NgC7AYlwESKS"
      }
    },
    {
      "cell_type": "code",
      "source": [
        "# plot history for accuracy  \n",
        "plt.plot(history.history['accuracy'])\n",
        "plt.title('model accuracy')\n",
        "plt.ylabel('accuracy')\n",
        "plt.xlabel('epoch')\n",
        "plt.show()"
      ],
      "metadata": {
        "colab": {
          "base_uri": "https://localhost:8080/",
          "height": 295
        },
        "id": "_BPH6xuCGT9j",
        "outputId": "b929a14c-0bd5-4fb0-eb26-ac065c29baf2"
      },
      "execution_count": 20,
      "outputs": [
        {
          "output_type": "display_data",
          "data": {
            "text/plain": [
              "<Figure size 432x288 with 1 Axes>"
            ],
            "image/png": "[encoded data removed]"
          },
          "metadata": {
            "needs_background": "light"
          }
        }
      ]
    },
    {
      "cell_type": "code",
      "source": [
        "# plot history for loss  \n",
        "plt.plot(history.history['loss'])\n",
        "plt.title('model loss')\n",
        "plt.ylabel('loss')\n",
        "plt.xlabel('epoch')\n",
        "plt.show()"
      ],
      "metadata": {
        "colab": {
          "base_uri": "https://localhost:8080/",
          "height": 295
        },
        "id": "iVDA26bOQQVz",
        "outputId": "76d2e5cb-6d01-40e2-b40c-235699468498"
      },
      "execution_count": 21,
      "outputs": [
        {
          "output_type": "display_data",
          "data": {
            "text/plain": [
              "<Figure size 432x288 with 1 Axes>"
            ],
            "image/png": "[encoded data removed]"
          },
          "metadata": {
            "needs_background": "light"
          }
        }
      ]
    },
    {
      "cell_type": "markdown",
      "source": [
        "### Predicting the Test set results"
      ],
      "metadata": {
        "id": "OOGrCucV7bYL"
      }
    },
    {
      "cell_type": "code",
      "source": [
        "y_pred = ann.predict(X_test)\n",
        "y_pred = (y_pred > 0.5)"
      ],
      "metadata": {
        "colab": {
          "base_uri": "https://localhost:8080/"
        },
        "id": "c9ifxWrB7hc2",
        "outputId": "a9e4a6e4-7344-4873-bf65-4ce2c69cd005"
      },
      "execution_count": 22,
      "outputs": [
        {
          "output_type": "stream",
          "name": "stdout",
          "text": [
            "6/6 [==============================] - 0s 5ms/step\n"
          ]
        }
      ]
    },
    {
      "cell_type": "markdown",
      "source": [
        "### Making the Confusion Matrix"
      ],
      "metadata": {
        "id": "rmSyc0U27lbM"
      }
    },
    {
      "cell_type": "code",
      "source": [
        "cm = confusion_matrix(y_test, y_pred)\n",
        "\n",
        "print(classification_report(y_test, y_pred))\n",
        "\n",
        "\n",
        "disp = ConfusionMatrixDisplay(confusion_matrix=cm)\n",
        "\n",
        "disp = disp.plot()\n",
        "\n",
        "plt.show()"
      ],
      "metadata": {
        "colab": {
          "base_uri": "https://localhost:8080/",
          "height": 443
        },
        "id": "isxZxt147mL0",
        "outputId": "d40eb50f-dc88-48aa-fdd5-bf2f2fae1456"
      },
      "execution_count": 23,
      "outputs": [
        {
          "output_type": "stream",
          "name": "stdout",
          "text": [
            "              precision    recall  f1-score   support\n",
            "\n",
            "           0       0.84      0.77      0.80        77\n",
            "           1       0.84      0.90      0.87       107\n",
            "\n",
            "    accuracy                           0.84       184\n",
            "   macro avg       0.84      0.83      0.84       184\n",
            "weighted avg       0.84      0.84      0.84       184\n",
            "\n"
          ]
        },
        {
          "output_type": "display_data",
          "data": {
            "text/plain": [
              "<Figure size 432x288 with 2 Axes>"
            ],
            "image/png": "[encoded data removed]"
          },
          "metadata": {
            "needs_background": "light"
          }
        }
      ]
    },
    {
      "cell_type": "markdown",
      "source": [
        "# **Try 2 more versions of it with different numbers of layers and neurons**"
      ],
      "metadata": {
        "id": "HJHlzAvyREhx"
      }
    },
    {
      "cell_type": "code",
      "source": [
        "#second ann obj\n",
        "ann2 = tf.keras.models.Sequential()"
      ],
      "metadata": {
        "id": "Vyz46AM1RHbx"
      },
      "execution_count": 24,
      "outputs": []
    },
    {
      "cell_type": "code",
      "source": [
        "ann2.add(tf.keras.layers.Dense(units=8, activation='relu'))"
      ],
      "metadata": {
        "id": "u91ZhImgUwch"
      },
      "execution_count": 25,
      "outputs": []
    },
    {
      "cell_type": "code",
      "source": [
        "ann2.add(tf.keras.layers.Dense(units=1, activation='sigmoid'))"
      ],
      "metadata": {
        "id": "-g53GCjRVkdy"
      },
      "execution_count": 26,
      "outputs": []
    },
    {
      "cell_type": "code",
      "source": [
        "ann2.compile(optimizer = 'adam', loss = 'binary_crossentropy', metrics = ['accuracy'])"
      ],
      "metadata": {
        "id": "2Unpsex0U6Ea"
      },
      "execution_count": 27,
      "outputs": []
    },
    {
      "cell_type": "code",
      "source": [
        "history2 = ann2.fit(X_train, y_train.values, batch_size = 64, epochs = 120) # I change the batch size and epochs numbers"
      ],
      "metadata": {
        "colab": {
          "base_uri": "https://localhost:8080/"
        },
        "id": "TyUyGcHRVGxc",
        "outputId": "5b58ca8e-a3e6-41df-beca-5e96fab7537f"
      },
      "execution_count": 28,
      "outputs": [
        {
          "output_type": "stream",
          "name": "stdout",
          "text": [
            "Epoch 1/120\n",
            "12/12 [==============================] - 1s 3ms/step - loss: 0.8451 - accuracy: 0.4292\n",
            "Epoch 2/120\n",
            "12/12 [==============================] - 0s 5ms/step - loss: 0.8089 - accuracy: 0.4523\n",
            "Epoch 3/120\n",
            "12/12 [==============================] - 0s 4ms/step - loss: 0.7757 - accuracy: 0.4741\n",
            "Epoch 4/120\n",
            "12/12 [==============================] - 0s 4ms/step - loss: 0.7452 - accuracy: 0.4946\n",
            "Epoch 5/120\n",
            "12/12 [==============================] - 0s 8ms/step - loss: 0.7176 - accuracy: 0.5245\n",
            "Epoch 6/120\n",
            "12/12 [==============================] - 0s 8ms/step - loss: 0.6923 - accuracy: 0.5490\n",
            "Epoch 7/120\n",
            "12/12 [==============================] - 0s 8ms/step - loss: 0.6676 - accuracy: 0.5777\n",
            "Epoch 8/120\n",
            "12/12 [==============================] - 0s 4ms/step - loss: 0.6450 - accuracy: 0.6076\n",
            "Epoch 9/120\n",
            "12/12 [==============================] - 0s 9ms/step - loss: 0.6230 - accuracy: 0.6431\n",
            "Epoch 10/120\n",
            "12/12 [==============================] - 0s 8ms/step - loss: 0.6024 - accuracy: 0.6717\n",
            "Epoch 11/120\n",
            "12/12 [==============================] - 0s 3ms/step - loss: 0.5818 - accuracy: 0.6907\n",
            "Epoch 12/120\n",
            "12/12 [==============================] - 0s 7ms/step - loss: 0.5626 - accuracy: 0.7180\n",
            "Epoch 13/120\n",
            "12/12 [==============================] - 0s 4ms/step - loss: 0.5443 - accuracy: 0.7439\n",
            "Epoch 14/120\n",
            "12/12 [==============================] - 0s 3ms/step - loss: 0.5268 - accuracy: 0.7616\n",
            "Epoch 15/120\n",
            "12/12 [==============================] - 0s 8ms/step - loss: 0.5102 - accuracy: 0.7834\n",
            "Epoch 16/120\n",
            "12/12 [==============================] - 0s 6ms/step - loss: 0.4951 - accuracy: 0.7929\n",
            "Epoch 17/120\n",
            "12/12 [==============================] - 0s 3ms/step - loss: 0.4802 - accuracy: 0.7997\n",
            "Epoch 18/120\n",
            "12/12 [==============================] - 0s 4ms/step - loss: 0.4674 - accuracy: 0.8093\n",
            "Epoch 19/120\n",
            "12/12 [==============================] - 0s 7ms/step - loss: 0.4547 - accuracy: 0.8120\n",
            "Epoch 20/120\n",
            "12/12 [==============================] - 0s 8ms/step - loss: 0.4439 - accuracy: 0.8188\n",
            "Epoch 21/120\n",
            "12/12 [==============================] - 0s 9ms/step - loss: 0.4334 - accuracy: 0.8270\n",
            "Epoch 22/120\n",
            "12/12 [==============================] - 0s 4ms/step - loss: 0.4239 - accuracy: 0.8297\n",
            "Epoch 23/120\n",
            "12/12 [==============================] - 0s 4ms/step - loss: 0.4151 - accuracy: 0.8379\n",
            "Epoch 24/120\n",
            "12/12 [==============================] - 0s 13ms/step - loss: 0.4071 - accuracy: 0.8460\n",
            "Epoch 25/120\n",
            "12/12 [==============================] - 0s 10ms/step - loss: 0.4003 - accuracy: 0.8474\n",
            "Epoch 26/120\n",
            "12/12 [==============================] - 0s 7ms/step - loss: 0.3936 - accuracy: 0.8515\n",
            "Epoch 27/120\n",
            "12/12 [==============================] - 0s 7ms/step - loss: 0.3879 - accuracy: 0.8529\n",
            "Epoch 28/120\n",
            "12/12 [==============================] - 0s 11ms/step - loss: 0.3825 - accuracy: 0.8515\n",
            "Epoch 29/120\n",
            "12/12 [==============================] - 0s 5ms/step - loss: 0.3778 - accuracy: 0.8529\n",
            "Epoch 30/120\n",
            "12/12 [==============================] - 0s 6ms/step - loss: 0.3733 - accuracy: 0.8542\n",
            "Epoch 31/120\n",
            "12/12 [==============================] - 0s 4ms/step - loss: 0.3693 - accuracy: 0.8569\n",
            "Epoch 32/120\n",
            "12/12 [==============================] - 0s 4ms/step - loss: 0.3654 - accuracy: 0.8610\n",
            "Epoch 33/120\n",
            "12/12 [==============================] - 0s 4ms/step - loss: 0.3620 - accuracy: 0.8624\n",
            "Epoch 34/120\n",
            "12/12 [==============================] - 0s 7ms/step - loss: 0.3590 - accuracy: 0.8638\n",
            "Epoch 35/120\n",
            "12/12 [==============================] - 0s 11ms/step - loss: 0.3561 - accuracy: 0.8624\n",
            "Epoch 36/120\n",
            "12/12 [==============================] - 0s 4ms/step - loss: 0.3533 - accuracy: 0.8638\n",
            "Epoch 37/120\n",
            "12/12 [==============================] - 0s 4ms/step - loss: 0.3511 - accuracy: 0.8624\n",
            "Epoch 38/120\n",
            "12/12 [==============================] - 0s 7ms/step - loss: 0.3489 - accuracy: 0.8610\n",
            "Epoch 39/120\n",
            "12/12 [==============================] - 0s 9ms/step - loss: 0.3467 - accuracy: 0.8624\n",
            "Epoch 40/120\n",
            "12/12 [==============================] - 0s 7ms/step - loss: 0.3449 - accuracy: 0.8624\n",
            "Epoch 41/120\n",
            "12/12 [==============================] - 0s 4ms/step - loss: 0.3432 - accuracy: 0.8610\n",
            "Epoch 42/120\n",
            "12/12 [==============================] - 0s 4ms/step - loss: 0.3417 - accuracy: 0.8624\n",
            "Epoch 43/120\n",
            "12/12 [==============================] - 0s 4ms/step - loss: 0.3401 - accuracy: 0.8638\n",
            "Epoch 44/120\n",
            "12/12 [==============================] - 0s 7ms/step - loss: 0.3385 - accuracy: 0.8678\n",
            "Epoch 45/120\n",
            "12/12 [==============================] - 0s 3ms/step - loss: 0.3371 - accuracy: 0.8678\n",
            "Epoch 46/120\n",
            "12/12 [==============================] - 0s 10ms/step - loss: 0.3360 - accuracy: 0.8706\n",
            "Epoch 47/120\n",
            "12/12 [==============================] - 0s 6ms/step - loss: 0.3347 - accuracy: 0.8706\n",
            "Epoch 48/120\n",
            "12/12 [==============================] - 0s 4ms/step - loss: 0.3336 - accuracy: 0.8706\n",
            "Epoch 49/120\n",
            "12/12 [==============================] - 0s 4ms/step - loss: 0.3323 - accuracy: 0.8706\n",
            "Epoch 50/120\n",
            "12/12 [==============================] - 0s 4ms/step - loss: 0.3313 - accuracy: 0.8706\n",
            "Epoch 51/120\n",
            "12/12 [==============================] - 0s 3ms/step - loss: 0.3304 - accuracy: 0.8706\n",
            "Epoch 52/120\n",
            "12/12 [==============================] - 0s 7ms/step - loss: 0.3294 - accuracy: 0.8706\n",
            "Epoch 53/120\n",
            "12/12 [==============================] - 0s 8ms/step - loss: 0.3284 - accuracy: 0.8719\n",
            "Epoch 54/120\n",
            "12/12 [==============================] - 0s 8ms/step - loss: 0.3277 - accuracy: 0.8719\n",
            "Epoch 55/120\n",
            "12/12 [==============================] - 0s 4ms/step - loss: 0.3270 - accuracy: 0.8719\n",
            "Epoch 56/120\n",
            "12/12 [==============================] - 0s 3ms/step - loss: 0.3261 - accuracy: 0.8706\n",
            "Epoch 57/120\n",
            "12/12 [==============================] - 0s 3ms/step - loss: 0.3254 - accuracy: 0.8719\n",
            "Epoch 58/120\n",
            "12/12 [==============================] - 0s 3ms/step - loss: 0.3247 - accuracy: 0.8706\n",
            "Epoch 59/120\n",
            "12/12 [==============================] - 0s 4ms/step - loss: 0.3240 - accuracy: 0.8706\n",
            "Epoch 60/120\n",
            "12/12 [==============================] - 0s 4ms/step - loss: 0.3234 - accuracy: 0.8706\n",
            "Epoch 61/120\n",
            "12/12 [==============================] - 0s 9ms/step - loss: 0.3229 - accuracy: 0.8706\n",
            "Epoch 62/120\n",
            "12/12 [==============================] - 0s 6ms/step - loss: 0.3223 - accuracy: 0.8706\n",
            "Epoch 63/120\n",
            "12/12 [==============================] - 0s 10ms/step - loss: 0.3218 - accuracy: 0.8692\n",
            "Epoch 64/120\n",
            "12/12 [==============================] - 0s 4ms/step - loss: 0.3211 - accuracy: 0.8692\n",
            "Epoch 65/120\n",
            "12/12 [==============================] - 0s 11ms/step - loss: 0.3205 - accuracy: 0.8692\n",
            "Epoch 66/120\n",
            "12/12 [==============================] - 0s 9ms/step - loss: 0.3201 - accuracy: 0.8706\n",
            "Epoch 67/120\n",
            "12/12 [==============================] - 0s 4ms/step - loss: 0.3195 - accuracy: 0.8706\n",
            "Epoch 68/120\n",
            "12/12 [==============================] - 0s 6ms/step - loss: 0.3190 - accuracy: 0.8719\n",
            "Epoch 69/120\n",
            "12/12 [==============================] - 0s 9ms/step - loss: 0.3184 - accuracy: 0.8719\n",
            "Epoch 70/120\n",
            "12/12 [==============================] - 0s 4ms/step - loss: 0.3179 - accuracy: 0.8719\n",
            "Epoch 71/120\n",
            "12/12 [==============================] - 0s 4ms/step - loss: 0.3173 - accuracy: 0.8719\n",
            "Epoch 72/120\n",
            "12/12 [==============================] - 0s 10ms/step - loss: 0.3168 - accuracy: 0.8719\n",
            "Epoch 73/120\n",
            "12/12 [==============================] - 0s 5ms/step - loss: 0.3163 - accuracy: 0.8747\n",
            "Epoch 74/120\n",
            "12/12 [==============================] - 0s 6ms/step - loss: 0.3158 - accuracy: 0.8747\n",
            "Epoch 75/120\n",
            "12/12 [==============================] - 0s 8ms/step - loss: 0.3154 - accuracy: 0.8760\n",
            "Epoch 76/120\n",
            "12/12 [==============================] - 0s 10ms/step - loss: 0.3148 - accuracy: 0.8747\n",
            "Epoch 77/120\n",
            "12/12 [==============================] - 0s 7ms/step - loss: 0.3143 - accuracy: 0.8747\n",
            "Epoch 78/120\n",
            "12/12 [==============================] - 0s 4ms/step - loss: 0.3138 - accuracy: 0.8747\n",
            "Epoch 79/120\n",
            "12/12 [==============================] - 0s 7ms/step - loss: 0.3134 - accuracy: 0.8747\n",
            "Epoch 80/120\n",
            "12/12 [==============================] - 0s 10ms/step - loss: 0.3129 - accuracy: 0.8747\n",
            "Epoch 81/120\n",
            "12/12 [==============================] - 0s 4ms/step - loss: 0.3125 - accuracy: 0.8760\n",
            "Epoch 82/120\n",
            "12/12 [==============================] - 0s 3ms/step - loss: 0.3121 - accuracy: 0.8760\n",
            "Epoch 83/120\n",
            "12/12 [==============================] - 0s 3ms/step - loss: 0.3116 - accuracy: 0.8760\n",
            "Epoch 84/120\n",
            "12/12 [==============================] - 0s 3ms/step - loss: 0.3113 - accuracy: 0.8774\n",
            "Epoch 85/120\n",
            "12/12 [==============================] - 0s 4ms/step - loss: 0.3107 - accuracy: 0.8774\n",
            "Epoch 86/120\n",
            "12/12 [==============================] - 0s 7ms/step - loss: 0.3103 - accuracy: 0.8774\n",
            "Epoch 87/120\n",
            "12/12 [==============================] - 0s 4ms/step - loss: 0.3099 - accuracy: 0.8774\n",
            "Epoch 88/120\n",
            "12/12 [==============================] - 0s 8ms/step - loss: 0.3095 - accuracy: 0.8774\n",
            "Epoch 89/120\n",
            "12/12 [==============================] - 0s 7ms/step - loss: 0.3091 - accuracy: 0.8774\n",
            "Epoch 90/120\n",
            "12/12 [==============================] - 0s 7ms/step - loss: 0.3087 - accuracy: 0.8787\n",
            "Epoch 91/120\n",
            "12/12 [==============================] - 0s 7ms/step - loss: 0.3083 - accuracy: 0.8787\n",
            "Epoch 92/120\n",
            "12/12 [==============================] - 0s 6ms/step - loss: 0.3080 - accuracy: 0.8787\n",
            "Epoch 93/120\n",
            "12/12 [==============================] - 0s 7ms/step - loss: 0.3076 - accuracy: 0.8801\n",
            "Epoch 94/120\n",
            "12/12 [==============================] - 0s 4ms/step - loss: 0.3071 - accuracy: 0.8801\n",
            "Epoch 95/120\n",
            "12/12 [==============================] - 0s 4ms/step - loss: 0.3066 - accuracy: 0.8815\n",
            "Epoch 96/120\n",
            "12/12 [==============================] - 0s 7ms/step - loss: 0.3062 - accuracy: 0.8828\n",
            "Epoch 97/120\n",
            "12/12 [==============================] - 0s 4ms/step - loss: 0.3059 - accuracy: 0.8842\n",
            "Epoch 98/120\n",
            "12/12 [==============================] - 0s 3ms/step - loss: 0.3054 - accuracy: 0.8828\n",
            "Epoch 99/120\n",
            "12/12 [==============================] - 0s 4ms/step - loss: 0.3049 - accuracy: 0.8842\n",
            "Epoch 100/120\n",
            "12/12 [==============================] - 0s 6ms/step - loss: 0.3046 - accuracy: 0.8842\n",
            "Epoch 101/120\n",
            "12/12 [==============================] - 0s 7ms/step - loss: 0.3041 - accuracy: 0.8842\n",
            "Epoch 102/120\n",
            "12/12 [==============================] - 0s 4ms/step - loss: 0.3038 - accuracy: 0.8856\n",
            "Epoch 103/120\n",
            "12/12 [==============================] - 0s 4ms/step - loss: 0.3032 - accuracy: 0.8856\n",
            "Epoch 104/120\n",
            "12/12 [==============================] - 0s 5ms/step - loss: 0.3029 - accuracy: 0.8856\n",
            "Epoch 105/120\n",
            "12/12 [==============================] - 0s 5ms/step - loss: 0.3025 - accuracy: 0.8856\n",
            "Epoch 106/120\n",
            "12/12 [==============================] - 0s 4ms/step - loss: 0.3020 - accuracy: 0.8856\n",
            "Epoch 107/120\n",
            "12/12 [==============================] - 0s 4ms/step - loss: 0.3019 - accuracy: 0.8856\n",
            "Epoch 108/120\n",
            "12/12 [==============================] - 0s 8ms/step - loss: 0.3013 - accuracy: 0.8856\n",
            "Epoch 109/120\n",
            "12/12 [==============================] - 0s 7ms/step - loss: 0.3010 - accuracy: 0.8856\n",
            "Epoch 110/120\n",
            "12/12 [==============================] - 0s 9ms/step - loss: 0.3005 - accuracy: 0.8869\n",
            "Epoch 111/120\n",
            "12/12 [==============================] - 0s 3ms/step - loss: 0.3001 - accuracy: 0.8869\n",
            "Epoch 112/120\n",
            "12/12 [==============================] - 0s 6ms/step - loss: 0.2998 - accuracy: 0.8869\n",
            "Epoch 113/120\n",
            "12/12 [==============================] - 0s 6ms/step - loss: 0.2994 - accuracy: 0.8869\n",
            "Epoch 114/120\n",
            "12/12 [==============================] - 0s 6ms/step - loss: 0.2992 - accuracy: 0.8869\n",
            "Epoch 115/120\n",
            "12/12 [==============================] - 0s 7ms/step - loss: 0.2986 - accuracy: 0.8869\n",
            "Epoch 116/120\n",
            "12/12 [==============================] - 0s 7ms/step - loss: 0.2983 - accuracy: 0.8856\n",
            "Epoch 117/120\n",
            "12/12 [==============================] - 0s 3ms/step - loss: 0.2979 - accuracy: 0.8856\n",
            "Epoch 118/120\n",
            "12/12 [==============================] - 0s 3ms/step - loss: 0.2976 - accuracy: 0.8856\n",
            "Epoch 119/120\n",
            "12/12 [==============================] - 0s 3ms/step - loss: 0.2973 - accuracy: 0.8869\n",
            "Epoch 120/120\n",
            "12/12 [==============================] - 0s 4ms/step - loss: 0.2970 - accuracy: 0.8869\n"
          ]
        }
      ]
    },
    {
      "cell_type": "code",
      "source": [
        "y_pred2 = ann2.predict(X_test)\n",
        "y_pred2 = (y_pred2 > 0.5)"
      ],
      "metadata": {
        "colab": {
          "base_uri": "https://localhost:8080/"
        },
        "id": "JWC21TBjWT3q",
        "outputId": "a8d641c0-255e-484b-8e37-46c3505171ea"
      },
      "execution_count": 29,
      "outputs": [
        {
          "output_type": "stream",
          "name": "stdout",
          "text": [
            "6/6 [==============================] - 0s 5ms/step\n"
          ]
        }
      ]
    },
    {
      "cell_type": "code",
      "source": [
        "cm2 = confusion_matrix(y_test, y_pred2)\n",
        "\n",
        "print(classification_report(y_test, y_pred2))\n",
        "\n",
        "\n",
        "disp = ConfusionMatrixDisplay(confusion_matrix=cm2)\n",
        "\n",
        "disp = disp.plot()\n",
        "\n",
        "plt.show() ## the accuracy here increased a bit"
      ],
      "metadata": {
        "colab": {
          "base_uri": "https://localhost:8080/",
          "height": 443
        },
        "id": "aUkfteebWZyL",
        "outputId": "3b171b9f-f605-4978-d8c0-da3f47e293cf"
      },
      "execution_count": 30,
      "outputs": [
        {
          "output_type": "stream",
          "name": "stdout",
          "text": [
            "              precision    recall  f1-score   support\n",
            "\n",
            "           0       0.86      0.79      0.82        77\n",
            "           1       0.86      0.91      0.88       107\n",
            "\n",
            "    accuracy                           0.86       184\n",
            "   macro avg       0.86      0.85      0.85       184\n",
            "weighted avg       0.86      0.86      0.86       184\n",
            "\n"
          ]
        },
        {
          "output_type": "display_data",
          "data": {
            "text/plain": [
              "<Figure size 432x288 with 2 Axes>"
            ],
            "image/png": "[encoded data removed]"
          },
          "metadata": {
            "needs_background": "light"
          }
        }
      ]
    },
    {
      "cell_type": "markdown",
      "source": [
        "### Try the Third ANN Object with different layers and neurons"
      ],
      "metadata": {
        "id": "y0bEzebVWqjB"
      }
    },
    {
      "cell_type": "code",
      "source": [
        "#third ann obj\n",
        "ann3 = tf.keras.models.Sequential()"
      ],
      "metadata": {
        "id": "uSv0MpRHWyrz"
      },
      "execution_count": 143,
      "outputs": []
    },
    {
      "cell_type": "code",
      "source": [
        "# first hidden layer\n",
        "ann3.add(tf.keras.layers.Dense(units=4, activation='relu'))"
      ],
      "metadata": {
        "id": "EP8JeG4yZp9N"
      },
      "execution_count": 144,
      "outputs": []
    },
    {
      "cell_type": "code",
      "source": [
        "# second hidden layer\n",
        "ann3.add(tf.keras.layers.Dense(units=4, activation='relu'))"
      ],
      "metadata": {
        "id": "k0lIAwy4Zt_L"
      },
      "execution_count": 145,
      "outputs": []
    },
    {
      "cell_type": "code",
      "source": [
        "# third hidden layer\n",
        "ann3.add(tf.keras.layers.Dense(units=4, activation='relu'))"
      ],
      "metadata": {
        "id": "_ZO-cc9XZuoI"
      },
      "execution_count": 146,
      "outputs": []
    },
    {
      "cell_type": "code",
      "source": [
        "# The output layer\n",
        "ann3.add(tf.keras.layers.Dense(units=1, activation='sigmoid'))"
      ],
      "metadata": {
        "id": "UTQNlvgPbgTJ"
      },
      "execution_count": 147,
      "outputs": []
    },
    {
      "cell_type": "code",
      "source": [
        "ann3.compile(optimizer = 'adam', loss = 'binary_crossentropy', metrics = ['accuracy'])"
      ],
      "metadata": {
        "id": "8dg5UOGwZ9Uo"
      },
      "execution_count": 148,
      "outputs": []
    },
    {
      "cell_type": "code",
      "source": [
        "history3 = ann2.fit(X_train, y_train.values, batch_size = 128, epochs = 160) # I change the batch size and epochs numbers"
      ],
      "metadata": {
        "colab": {
          "base_uri": "https://localhost:8080/"
        },
        "id": "KEz4MSNOaVz5",
        "outputId": "78ad8bc6-2e37-4e51-d00e-ed943e07aa02"
      },
      "execution_count": 149,
      "outputs": [
        {
          "output_type": "stream",
          "name": "stdout",
          "text": [
            "Epoch 1/160\n",
            "6/6 [==============================] - 0s 3ms/step - loss: 0.2332 - accuracy: 0.9169\n",
            "Epoch 2/160\n",
            "6/6 [==============================] - 0s 5ms/step - loss: 0.2333 - accuracy: 0.9169\n",
            "Epoch 3/160\n",
            "6/6 [==============================] - 0s 3ms/step - loss: 0.2332 - accuracy: 0.9169\n",
            "Epoch 4/160\n",
            "6/6 [==============================] - 0s 3ms/step - loss: 0.2332 - accuracy: 0.9169\n",
            "Epoch 5/160\n",
            "6/6 [==============================] - 0s 3ms/step - loss: 0.2332 - accuracy: 0.9169\n",
            "Epoch 6/160\n",
            "6/6 [==============================] - 0s 3ms/step - loss: 0.2331 - accuracy: 0.9169\n",
            "Epoch 7/160\n",
            "6/6 [==============================] - 0s 3ms/step - loss: 0.2332 - accuracy: 0.9169\n",
            "Epoch 8/160\n",
            "6/6 [==============================] - 0s 4ms/step - loss: 0.2332 - accuracy: 0.9169\n",
            "Epoch 9/160\n",
            "6/6 [==============================] - 0s 3ms/step - loss: 0.2332 - accuracy: 0.9183\n",
            "Epoch 10/160\n",
            "6/6 [==============================] - 0s 3ms/step - loss: 0.2331 - accuracy: 0.9183\n",
            "Epoch 11/160\n",
            "6/6 [==============================] - 0s 3ms/step - loss: 0.2331 - accuracy: 0.9183\n",
            "Epoch 12/160\n",
            "6/6 [==============================] - 0s 4ms/step - loss: 0.2332 - accuracy: 0.9169\n",
            "Epoch 13/160\n",
            "6/6 [==============================] - 0s 3ms/step - loss: 0.2332 - accuracy: 0.9169\n",
            "Epoch 14/160\n",
            "6/6 [==============================] - 0s 3ms/step - loss: 0.2331 - accuracy: 0.9169\n",
            "Epoch 15/160\n",
            "6/6 [==============================] - 0s 4ms/step - loss: 0.2332 - accuracy: 0.9169\n",
            "Epoch 16/160\n",
            "6/6 [==============================] - 0s 5ms/step - loss: 0.2331 - accuracy: 0.9169\n",
            "Epoch 17/160\n",
            "6/6 [==============================] - 0s 3ms/step - loss: 0.2330 - accuracy: 0.9183\n",
            "Epoch 18/160\n",
            "6/6 [==============================] - 0s 3ms/step - loss: 0.2330 - accuracy: 0.9183\n",
            "Epoch 19/160\n",
            "6/6 [==============================] - 0s 3ms/step - loss: 0.2331 - accuracy: 0.9169\n",
            "Epoch 20/160\n",
            "6/6 [==============================] - 0s 3ms/step - loss: 0.2330 - accuracy: 0.9196\n",
            "Epoch 21/160\n",
            "6/6 [==============================] - 0s 4ms/step - loss: 0.2331 - accuracy: 0.9183\n",
            "Epoch 22/160\n",
            "6/6 [==============================] - 0s 4ms/step - loss: 0.2330 - accuracy: 0.9183\n",
            "Epoch 23/160\n",
            "6/6 [==============================] - 0s 3ms/step - loss: 0.2331 - accuracy: 0.9169\n",
            "Epoch 24/160\n",
            "6/6 [==============================] - 0s 4ms/step - loss: 0.2332 - accuracy: 0.9169\n",
            "Epoch 25/160\n",
            "6/6 [==============================] - 0s 4ms/step - loss: 0.2330 - accuracy: 0.9169\n",
            "Epoch 26/160\n",
            "6/6 [==============================] - 0s 3ms/step - loss: 0.2331 - accuracy: 0.9183\n",
            "Epoch 27/160\n",
            "6/6 [==============================] - 0s 3ms/step - loss: 0.2330 - accuracy: 0.9169\n",
            "Epoch 28/160\n",
            "6/6 [==============================] - 0s 3ms/step - loss: 0.2330 - accuracy: 0.9169\n",
            "Epoch 29/160\n",
            "6/6 [==============================] - 0s 3ms/step - loss: 0.2329 - accuracy: 0.9169\n",
            "Epoch 30/160\n",
            "6/6 [==============================] - 0s 3ms/step - loss: 0.2329 - accuracy: 0.9169\n",
            "Epoch 31/160\n",
            "6/6 [==============================] - 0s 3ms/step - loss: 0.2330 - accuracy: 0.9169\n",
            "Epoch 32/160\n",
            "6/6 [==============================] - 0s 3ms/step - loss: 0.2329 - accuracy: 0.9169\n",
            "Epoch 33/160\n",
            "6/6 [==============================] - 0s 4ms/step - loss: 0.2328 - accuracy: 0.9169\n",
            "Epoch 34/160\n",
            "6/6 [==============================] - 0s 5ms/step - loss: 0.2328 - accuracy: 0.9169\n",
            "Epoch 35/160\n",
            "6/6 [==============================] - 0s 3ms/step - loss: 0.2330 - accuracy: 0.9183\n",
            "Epoch 36/160\n",
            "6/6 [==============================] - 0s 3ms/step - loss: 0.2329 - accuracy: 0.9183\n",
            "Epoch 37/160\n",
            "6/6 [==============================] - 0s 4ms/step - loss: 0.2329 - accuracy: 0.9183\n",
            "Epoch 38/160\n",
            "6/6 [==============================] - 0s 4ms/step - loss: 0.2328 - accuracy: 0.9183\n",
            "Epoch 39/160\n",
            "6/6 [==============================] - 0s 3ms/step - loss: 0.2329 - accuracy: 0.9183\n",
            "Epoch 40/160\n",
            "6/6 [==============================] - 0s 4ms/step - loss: 0.2329 - accuracy: 0.9183\n",
            "Epoch 41/160\n",
            "6/6 [==============================] - 0s 4ms/step - loss: 0.2329 - accuracy: 0.9183\n",
            "Epoch 42/160\n",
            "6/6 [==============================] - 0s 4ms/step - loss: 0.2328 - accuracy: 0.9183\n",
            "Epoch 43/160\n",
            "6/6 [==============================] - 0s 3ms/step - loss: 0.2329 - accuracy: 0.9169\n",
            "Epoch 44/160\n",
            "6/6 [==============================] - 0s 5ms/step - loss: 0.2329 - accuracy: 0.9169\n",
            "Epoch 45/160\n",
            "6/6 [==============================] - 0s 4ms/step - loss: 0.2329 - accuracy: 0.9169\n",
            "Epoch 46/160\n",
            "6/6 [==============================] - 0s 4ms/step - loss: 0.2327 - accuracy: 0.9169\n",
            "Epoch 47/160\n",
            "6/6 [==============================] - 0s 5ms/step - loss: 0.2328 - accuracy: 0.9183\n",
            "Epoch 48/160\n",
            "6/6 [==============================] - 0s 3ms/step - loss: 0.2328 - accuracy: 0.9183\n",
            "Epoch 49/160\n",
            "6/6 [==============================] - 0s 3ms/step - loss: 0.2328 - accuracy: 0.9169\n",
            "Epoch 50/160\n",
            "6/6 [==============================] - 0s 4ms/step - loss: 0.2329 - accuracy: 0.9183\n",
            "Epoch 51/160\n",
            "6/6 [==============================] - 0s 4ms/step - loss: 0.2328 - accuracy: 0.9183\n",
            "Epoch 52/160\n",
            "6/6 [==============================] - 0s 3ms/step - loss: 0.2329 - accuracy: 0.9183\n",
            "Epoch 53/160\n",
            "6/6 [==============================] - 0s 4ms/step - loss: 0.2327 - accuracy: 0.9183\n",
            "Epoch 54/160\n",
            "6/6 [==============================] - 0s 4ms/step - loss: 0.2328 - accuracy: 0.9169\n",
            "Epoch 55/160\n",
            "6/6 [==============================] - 0s 3ms/step - loss: 0.2327 - accuracy: 0.9169\n",
            "Epoch 56/160\n",
            "6/6 [==============================] - 0s 3ms/step - loss: 0.2327 - accuracy: 0.9169\n",
            "Epoch 57/160\n",
            "6/6 [==============================] - 0s 4ms/step - loss: 0.2328 - accuracy: 0.9169\n",
            "Epoch 58/160\n",
            "6/6 [==============================] - 0s 3ms/step - loss: 0.2327 - accuracy: 0.9183\n",
            "Epoch 59/160\n",
            "6/6 [==============================] - 0s 4ms/step - loss: 0.2328 - accuracy: 0.9196\n",
            "Epoch 60/160\n",
            "6/6 [==============================] - 0s 3ms/step - loss: 0.2327 - accuracy: 0.9196\n",
            "Epoch 61/160\n",
            "6/6 [==============================] - 0s 3ms/step - loss: 0.2327 - accuracy: 0.9183\n",
            "Epoch 62/160\n",
            "6/6 [==============================] - 0s 3ms/step - loss: 0.2328 - accuracy: 0.9183\n",
            "Epoch 63/160\n",
            "6/6 [==============================] - 0s 3ms/step - loss: 0.2327 - accuracy: 0.9169\n",
            "Epoch 64/160\n",
            "6/6 [==============================] - 0s 4ms/step - loss: 0.2326 - accuracy: 0.9183\n",
            "Epoch 65/160\n",
            "6/6 [==============================] - 0s 4ms/step - loss: 0.2326 - accuracy: 0.9196\n",
            "Epoch 66/160\n",
            "6/6 [==============================] - 0s 4ms/step - loss: 0.2326 - accuracy: 0.9183\n",
            "Epoch 67/160\n",
            "6/6 [==============================] - 0s 4ms/step - loss: 0.2326 - accuracy: 0.9183\n",
            "Epoch 68/160\n",
            "6/6 [==============================] - 0s 4ms/step - loss: 0.2327 - accuracy: 0.9183\n",
            "Epoch 69/160\n",
            "6/6 [==============================] - 0s 3ms/step - loss: 0.2326 - accuracy: 0.9183\n",
            "Epoch 70/160\n",
            "6/6 [==============================] - 0s 5ms/step - loss: 0.2326 - accuracy: 0.9183\n",
            "Epoch 71/160\n",
            "6/6 [==============================] - 0s 4ms/step - loss: 0.2326 - accuracy: 0.9183\n",
            "Epoch 72/160\n",
            "6/6 [==============================] - 0s 3ms/step - loss: 0.2325 - accuracy: 0.9169\n",
            "Epoch 73/160\n",
            "6/6 [==============================] - 0s 3ms/step - loss: 0.2325 - accuracy: 0.9169\n",
            "Epoch 74/160\n",
            "6/6 [==============================] - 0s 3ms/step - loss: 0.2325 - accuracy: 0.9183\n",
            "Epoch 75/160\n",
            "6/6 [==============================] - 0s 4ms/step - loss: 0.2324 - accuracy: 0.9183\n",
            "Epoch 76/160\n",
            "6/6 [==============================] - 0s 4ms/step - loss: 0.2324 - accuracy: 0.9183\n",
            "Epoch 77/160\n",
            "6/6 [==============================] - 0s 4ms/step - loss: 0.2324 - accuracy: 0.9196\n",
            "Epoch 78/160\n",
            "6/6 [==============================] - 0s 3ms/step - loss: 0.2325 - accuracy: 0.9196\n",
            "Epoch 79/160\n",
            "6/6 [==============================] - 0s 4ms/step - loss: 0.2324 - accuracy: 0.9196\n",
            "Epoch 80/160\n",
            "6/6 [==============================] - 0s 3ms/step - loss: 0.2324 - accuracy: 0.9196\n",
            "Epoch 81/160\n",
            "6/6 [==============================] - 0s 3ms/step - loss: 0.2324 - accuracy: 0.9196\n",
            "Epoch 82/160\n",
            "6/6 [==============================] - 0s 4ms/step - loss: 0.2323 - accuracy: 0.9196\n",
            "Epoch 83/160\n",
            "6/6 [==============================] - 0s 3ms/step - loss: 0.2324 - accuracy: 0.9196\n",
            "Epoch 84/160\n",
            "6/6 [==============================] - 0s 4ms/step - loss: 0.2324 - accuracy: 0.9183\n",
            "Epoch 85/160\n",
            "6/6 [==============================] - 0s 3ms/step - loss: 0.2325 - accuracy: 0.9183\n",
            "Epoch 86/160\n",
            "6/6 [==============================] - 0s 4ms/step - loss: 0.2324 - accuracy: 0.9196\n",
            "Epoch 87/160\n",
            "6/6 [==============================] - 0s 3ms/step - loss: 0.2323 - accuracy: 0.9196\n",
            "Epoch 88/160\n",
            "6/6 [==============================] - 0s 3ms/step - loss: 0.2322 - accuracy: 0.9196\n",
            "Epoch 89/160\n",
            "6/6 [==============================] - 0s 3ms/step - loss: 0.2322 - accuracy: 0.9196\n",
            "Epoch 90/160\n",
            "6/6 [==============================] - 0s 3ms/step - loss: 0.2322 - accuracy: 0.9196\n",
            "Epoch 91/160\n",
            "6/6 [==============================] - 0s 4ms/step - loss: 0.2323 - accuracy: 0.9183\n",
            "Epoch 92/160\n",
            "6/6 [==============================] - 0s 3ms/step - loss: 0.2322 - accuracy: 0.9183\n",
            "Epoch 93/160\n",
            "6/6 [==============================] - 0s 4ms/step - loss: 0.2322 - accuracy: 0.9183\n",
            "Epoch 94/160\n",
            "6/6 [==============================] - 0s 3ms/step - loss: 0.2322 - accuracy: 0.9183\n",
            "Epoch 95/160\n",
            "6/6 [==============================] - 0s 4ms/step - loss: 0.2321 - accuracy: 0.9196\n",
            "Epoch 96/160\n",
            "6/6 [==============================] - 0s 6ms/step - loss: 0.2321 - accuracy: 0.9196\n",
            "Epoch 97/160\n",
            "6/6 [==============================] - 0s 4ms/step - loss: 0.2321 - accuracy: 0.9183\n",
            "Epoch 98/160\n",
            "6/6 [==============================] - 0s 4ms/step - loss: 0.2320 - accuracy: 0.9183\n",
            "Epoch 99/160\n",
            "6/6 [==============================] - 0s 4ms/step - loss: 0.2320 - accuracy: 0.9183\n",
            "Epoch 100/160\n",
            "6/6 [==============================] - 0s 4ms/step - loss: 0.2321 - accuracy: 0.9183\n",
            "Epoch 101/160\n",
            "6/6 [==============================] - 0s 5ms/step - loss: 0.2321 - accuracy: 0.9196\n",
            "Epoch 102/160\n",
            "6/6 [==============================] - 0s 4ms/step - loss: 0.2321 - accuracy: 0.9196\n",
            "Epoch 103/160\n",
            "6/6 [==============================] - 0s 3ms/step - loss: 0.2321 - accuracy: 0.9183\n",
            "Epoch 104/160\n",
            "6/6 [==============================] - 0s 3ms/step - loss: 0.2320 - accuracy: 0.9183\n",
            "Epoch 105/160\n",
            "6/6 [==============================] - 0s 3ms/step - loss: 0.2320 - accuracy: 0.9183\n",
            "Epoch 106/160\n",
            "6/6 [==============================] - 0s 5ms/step - loss: 0.2320 - accuracy: 0.9183\n",
            "Epoch 107/160\n",
            "6/6 [==============================] - 0s 5ms/step - loss: 0.2321 - accuracy: 0.9183\n",
            "Epoch 108/160\n",
            "6/6 [==============================] - 0s 5ms/step - loss: 0.2319 - accuracy: 0.9183\n",
            "Epoch 109/160\n",
            "6/6 [==============================] - 0s 3ms/step - loss: 0.2319 - accuracy: 0.9183\n",
            "Epoch 110/160\n",
            "6/6 [==============================] - 0s 4ms/step - loss: 0.2320 - accuracy: 0.9183\n",
            "Epoch 111/160\n",
            "6/6 [==============================] - 0s 4ms/step - loss: 0.2319 - accuracy: 0.9183\n",
            "Epoch 112/160\n",
            "6/6 [==============================] - 0s 5ms/step - loss: 0.2320 - accuracy: 0.9183\n",
            "Epoch 113/160\n",
            "6/6 [==============================] - 0s 4ms/step - loss: 0.2319 - accuracy: 0.9183\n",
            "Epoch 114/160\n",
            "6/6 [==============================] - 0s 3ms/step - loss: 0.2319 - accuracy: 0.9183\n",
            "Epoch 115/160\n",
            "6/6 [==============================] - 0s 5ms/step - loss: 0.2320 - accuracy: 0.9169\n",
            "Epoch 116/160\n",
            "6/6 [==============================] - 0s 5ms/step - loss: 0.2318 - accuracy: 0.9183\n",
            "Epoch 117/160\n",
            "6/6 [==============================] - 0s 4ms/step - loss: 0.2317 - accuracy: 0.9183\n",
            "Epoch 118/160\n",
            "6/6 [==============================] - 0s 3ms/step - loss: 0.2318 - accuracy: 0.9183\n",
            "Epoch 119/160\n",
            "6/6 [==============================] - 0s 4ms/step - loss: 0.2318 - accuracy: 0.9183\n",
            "Epoch 120/160\n",
            "6/6 [==============================] - 0s 3ms/step - loss: 0.2318 - accuracy: 0.9183\n",
            "Epoch 121/160\n",
            "6/6 [==============================] - 0s 4ms/step - loss: 0.2318 - accuracy: 0.9183\n",
            "Epoch 122/160\n",
            "6/6 [==============================] - 0s 3ms/step - loss: 0.2318 - accuracy: 0.9183\n",
            "Epoch 123/160\n",
            "6/6 [==============================] - 0s 3ms/step - loss: 0.2317 - accuracy: 0.9183\n",
            "Epoch 124/160\n",
            "6/6 [==============================] - 0s 5ms/step - loss: 0.2318 - accuracy: 0.9183\n",
            "Epoch 125/160\n",
            "6/6 [==============================] - 0s 3ms/step - loss: 0.2316 - accuracy: 0.9169\n",
            "Epoch 126/160\n",
            "6/6 [==============================] - 0s 7ms/step - loss: 0.2317 - accuracy: 0.9183\n",
            "Epoch 127/160\n",
            "6/6 [==============================] - 0s 3ms/step - loss: 0.2317 - accuracy: 0.9183\n",
            "Epoch 128/160\n",
            "6/6 [==============================] - 0s 5ms/step - loss: 0.2316 - accuracy: 0.9183\n",
            "Epoch 129/160\n",
            "6/6 [==============================] - 0s 3ms/step - loss: 0.2316 - accuracy: 0.9183\n",
            "Epoch 130/160\n",
            "6/6 [==============================] - 0s 3ms/step - loss: 0.2316 - accuracy: 0.9183\n",
            "Epoch 131/160\n",
            "6/6 [==============================] - 0s 6ms/step - loss: 0.2316 - accuracy: 0.9183\n",
            "Epoch 132/160\n",
            "6/6 [==============================] - 0s 4ms/step - loss: 0.2316 - accuracy: 0.9183\n",
            "Epoch 133/160\n",
            "6/6 [==============================] - 0s 4ms/step - loss: 0.2316 - accuracy: 0.9183\n",
            "Epoch 134/160\n",
            "6/6 [==============================] - 0s 3ms/step - loss: 0.2316 - accuracy: 0.9183\n",
            "Epoch 135/160\n",
            "6/6 [==============================] - 0s 4ms/step - loss: 0.2316 - accuracy: 0.9183\n",
            "Epoch 136/160\n",
            "6/6 [==============================] - 0s 4ms/step - loss: 0.2315 - accuracy: 0.9183\n",
            "Epoch 137/160\n",
            "6/6 [==============================] - 0s 4ms/step - loss: 0.2316 - accuracy: 0.9183\n",
            "Epoch 138/160\n",
            "6/6 [==============================] - 0s 4ms/step - loss: 0.2316 - accuracy: 0.9183\n",
            "Epoch 139/160\n",
            "6/6 [==============================] - 0s 4ms/step - loss: 0.2315 - accuracy: 0.9183\n",
            "Epoch 140/160\n",
            "6/6 [==============================] - 0s 3ms/step - loss: 0.2315 - accuracy: 0.9183\n",
            "Epoch 141/160\n",
            "6/6 [==============================] - 0s 5ms/step - loss: 0.2315 - accuracy: 0.9183\n",
            "Epoch 142/160\n",
            "6/6 [==============================] - 0s 4ms/step - loss: 0.2314 - accuracy: 0.9183\n",
            "Epoch 143/160\n",
            "6/6 [==============================] - 0s 4ms/step - loss: 0.2316 - accuracy: 0.9183\n",
            "Epoch 144/160\n",
            "6/6 [==============================] - 0s 4ms/step - loss: 0.2315 - accuracy: 0.9183\n",
            "Epoch 145/160\n",
            "6/6 [==============================] - 0s 6ms/step - loss: 0.2315 - accuracy: 0.9183\n",
            "Epoch 146/160\n",
            "6/6 [==============================] - 0s 5ms/step - loss: 0.2314 - accuracy: 0.9183\n",
            "Epoch 147/160\n",
            "6/6 [==============================] - 0s 3ms/step - loss: 0.2315 - accuracy: 0.9183\n",
            "Epoch 148/160\n",
            "6/6 [==============================] - 0s 4ms/step - loss: 0.2314 - accuracy: 0.9183\n",
            "Epoch 149/160\n",
            "6/6 [==============================] - 0s 3ms/step - loss: 0.2314 - accuracy: 0.9169\n",
            "Epoch 150/160\n",
            "6/6 [==============================] - 0s 4ms/step - loss: 0.2314 - accuracy: 0.9183\n",
            "Epoch 151/160\n",
            "6/6 [==============================] - 0s 4ms/step - loss: 0.2314 - accuracy: 0.9183\n",
            "Epoch 152/160\n",
            "6/6 [==============================] - 0s 4ms/step - loss: 0.2314 - accuracy: 0.9183\n",
            "Epoch 153/160\n",
            "6/6 [==============================] - 0s 3ms/step - loss: 0.2314 - accuracy: 0.9183\n",
            "Epoch 154/160\n",
            "6/6 [==============================] - 0s 4ms/step - loss: 0.2314 - accuracy: 0.9183\n",
            "Epoch 155/160\n",
            "6/6 [==============================] - 0s 5ms/step - loss: 0.2313 - accuracy: 0.9183\n",
            "Epoch 156/160\n",
            "6/6 [==============================] - 0s 5ms/step - loss: 0.2313 - accuracy: 0.9183\n",
            "Epoch 157/160\n",
            "6/6 [==============================] - 0s 4ms/step - loss: 0.2313 - accuracy: 0.9183\n",
            "Epoch 158/160\n",
            "6/6 [==============================] - 0s 5ms/step - loss: 0.2313 - accuracy: 0.9183\n",
            "Epoch 159/160\n",
            "6/6 [==============================] - 0s 4ms/step - loss: 0.2313 - accuracy: 0.9183\n",
            "Epoch 160/160\n",
            "6/6 [==============================] - 0s 4ms/step - loss: 0.2312 - accuracy: 0.9183\n"
          ]
        }
      ]
    },
    {
      "cell_type": "code",
      "source": [
        "y_pred3 = ann3.predict(X_test)\n",
        "y_pred3 = (y_pred3 > 0.5)"
      ],
      "metadata": {
        "colab": {
          "base_uri": "https://localhost:8080/"
        },
        "id": "2BkNEa7Na-Ip",
        "outputId": "35c09dfd-1e38-455e-9ab4-a7623b8850d0"
      },
      "execution_count": 150,
      "outputs": [
        {
          "output_type": "stream",
          "name": "stdout",
          "text": [
            "6/6 [==============================] - 0s 3ms/step\n"
          ]
        }
      ]
    },
    {
      "cell_type": "code",
      "source": [
        "cm3 = confusion_matrix(y_test, y_pred3)\n",
        "\n",
        "print(classification_report(y_test, y_pred3))\n",
        "\n",
        "\n",
        "disp = ConfusionMatrixDisplay(confusion_matrix=cm3)\n",
        "\n",
        "disp = disp.plot()\n",
        "\n",
        "plt.show() ## the accuracy here decreased a lot when I add third 3rd layer and the class-0 predict FN more than the FP"
      ],
      "metadata": {
        "colab": {
          "base_uri": "https://localhost:8080/",
          "height": 443
        },
        "id": "9hWiXGLGa4NB",
        "outputId": "61400408-ce84-4a60-cadc-4b78d1eca791"
      },
      "execution_count": 151,
      "outputs": [
        {
          "output_type": "stream",
          "name": "stdout",
          "text": [
            "              precision    recall  f1-score   support\n",
            "\n",
            "           0       0.75      0.16      0.26        77\n",
            "           1       0.61      0.96      0.75       107\n",
            "\n",
            "    accuracy                           0.62       184\n",
            "   macro avg       0.68      0.56      0.50       184\n",
            "weighted avg       0.67      0.62      0.54       184\n",
            "\n"
          ]
        },
        {
          "output_type": "display_data",
          "data": {
            "text/plain": [
              "<Figure size 432x288 with 2 Axes>"
            ],
            "image/png": "[encoded data removed]"
          },
          "metadata": {
            "needs_background": "light"
          }
        }
      ]
    }
  ]
}